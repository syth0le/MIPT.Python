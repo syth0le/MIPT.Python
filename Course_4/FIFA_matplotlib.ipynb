{
 "cells": [
  {
   "cell_type": "code",
   "execution_count": 4,
   "metadata": {},
   "outputs": [],
   "source": [
    "import pandas as pd\n",
    "import matplotlib.pyplot as plt"
   ]
  },
  {
   "cell_type": "code",
   "execution_count": 2,
   "metadata": {},
   "outputs": [
    {
     "name": "stderr",
     "output_type": "stream",
     "text": [
      "C:\\Users\\chdan\\anaconda3\\lib\\site-packages\\IPython\\core\\interactiveshell.py:3063: DtypeWarning: Columns (23,35) have mixed types.Specify dtype option on import or set low_memory=False.\n",
      "  interactivity=interactivity, compiler=compiler, result=result)\n"
     ]
    },
    {
     "data": {
      "text/html": [
       "<div>\n",
       "<style scoped>\n",
       "    .dataframe tbody tr th:only-of-type {\n",
       "        vertical-align: middle;\n",
       "    }\n",
       "\n",
       "    .dataframe tbody tr th {\n",
       "        vertical-align: top;\n",
       "    }\n",
       "\n",
       "    .dataframe thead th {\n",
       "        text-align: right;\n",
       "    }\n",
       "</style>\n",
       "<table border=\"1\" class=\"dataframe\">\n",
       "  <thead>\n",
       "    <tr style=\"text-align: right;\">\n",
       "      <th></th>\n",
       "      <th>Unnamed: 0</th>\n",
       "      <th>Name</th>\n",
       "      <th>Age</th>\n",
       "      <th>Photo</th>\n",
       "      <th>Nationality</th>\n",
       "      <th>Flag</th>\n",
       "      <th>Overall</th>\n",
       "      <th>Potential</th>\n",
       "      <th>Club</th>\n",
       "      <th>Club Logo</th>\n",
       "      <th>Value</th>\n",
       "      <th>Wage</th>\n",
       "      <th>Special</th>\n",
       "      <th>Acceleration</th>\n",
       "      <th>Aggression</th>\n",
       "      <th>...</th>\n",
       "      <th>LS</th>\n",
       "      <th>LW</th>\n",
       "      <th>LWB</th>\n",
       "      <th>Preferred Positions</th>\n",
       "      <th>RAM</th>\n",
       "      <th>RB</th>\n",
       "      <th>RCB</th>\n",
       "      <th>RCM</th>\n",
       "      <th>RDM</th>\n",
       "      <th>RF</th>\n",
       "      <th>RM</th>\n",
       "      <th>RS</th>\n",
       "      <th>RW</th>\n",
       "      <th>RWB</th>\n",
       "      <th>ST</th>\n",
       "    </tr>\n",
       "  </thead>\n",
       "  <tbody>\n",
       "    <tr>\n",
       "      <th>4</th>\n",
       "      <td>4</td>\n",
       "      <td>M. Neuer</td>\n",
       "      <td>31</td>\n",
       "      <td>https://cdn.sofifa.org/48/18/players/167495.png</td>\n",
       "      <td>Germany</td>\n",
       "      <td>https://cdn.sofifa.org/flags/21.png</td>\n",
       "      <td>92</td>\n",
       "      <td>92</td>\n",
       "      <td>FC Bayern Munich</td>\n",
       "      <td>https://cdn.sofifa.org/24/18/teams/21.png</td>\n",
       "      <td>€61M</td>\n",
       "      <td>€230K</td>\n",
       "      <td>1493</td>\n",
       "      <td>58</td>\n",
       "      <td>29</td>\n",
       "      <td>...</td>\n",
       "      <td>NaN</td>\n",
       "      <td>NaN</td>\n",
       "      <td>NaN</td>\n",
       "      <td>GK</td>\n",
       "      <td>NaN</td>\n",
       "      <td>NaN</td>\n",
       "      <td>NaN</td>\n",
       "      <td>NaN</td>\n",
       "      <td>NaN</td>\n",
       "      <td>NaN</td>\n",
       "      <td>NaN</td>\n",
       "      <td>NaN</td>\n",
       "      <td>NaN</td>\n",
       "      <td>NaN</td>\n",
       "      <td>NaN</td>\n",
       "    </tr>\n",
       "    <tr>\n",
       "      <th>3</th>\n",
       "      <td>3</td>\n",
       "      <td>L. Suárez</td>\n",
       "      <td>30</td>\n",
       "      <td>https://cdn.sofifa.org/48/18/players/176580.png</td>\n",
       "      <td>Uruguay</td>\n",
       "      <td>https://cdn.sofifa.org/flags/60.png</td>\n",
       "      <td>92</td>\n",
       "      <td>92</td>\n",
       "      <td>FC Barcelona</td>\n",
       "      <td>https://cdn.sofifa.org/24/18/teams/241.png</td>\n",
       "      <td>€97M</td>\n",
       "      <td>€510K</td>\n",
       "      <td>2291</td>\n",
       "      <td>88</td>\n",
       "      <td>78</td>\n",
       "      <td>...</td>\n",
       "      <td>88.0</td>\n",
       "      <td>87.0</td>\n",
       "      <td>68.0</td>\n",
       "      <td>ST</td>\n",
       "      <td>87.0</td>\n",
       "      <td>64.0</td>\n",
       "      <td>58.0</td>\n",
       "      <td>80.0</td>\n",
       "      <td>65.0</td>\n",
       "      <td>88.0</td>\n",
       "      <td>85.0</td>\n",
       "      <td>88.0</td>\n",
       "      <td>87.0</td>\n",
       "      <td>68.0</td>\n",
       "      <td>88.0</td>\n",
       "    </tr>\n",
       "    <tr>\n",
       "      <th>2</th>\n",
       "      <td>2</td>\n",
       "      <td>Neymar</td>\n",
       "      <td>25</td>\n",
       "      <td>https://cdn.sofifa.org/48/18/players/190871.png</td>\n",
       "      <td>Brazil</td>\n",
       "      <td>https://cdn.sofifa.org/flags/54.png</td>\n",
       "      <td>92</td>\n",
       "      <td>94</td>\n",
       "      <td>Paris Saint-Germain</td>\n",
       "      <td>https://cdn.sofifa.org/24/18/teams/73.png</td>\n",
       "      <td>€123M</td>\n",
       "      <td>€280K</td>\n",
       "      <td>2100</td>\n",
       "      <td>94</td>\n",
       "      <td>56</td>\n",
       "      <td>...</td>\n",
       "      <td>84.0</td>\n",
       "      <td>89.0</td>\n",
       "      <td>64.0</td>\n",
       "      <td>LW</td>\n",
       "      <td>88.0</td>\n",
       "      <td>59.0</td>\n",
       "      <td>46.0</td>\n",
       "      <td>79.0</td>\n",
       "      <td>59.0</td>\n",
       "      <td>88.0</td>\n",
       "      <td>87.0</td>\n",
       "      <td>84.0</td>\n",
       "      <td>89.0</td>\n",
       "      <td>64.0</td>\n",
       "      <td>84.0</td>\n",
       "    </tr>\n",
       "    <tr>\n",
       "      <th>1</th>\n",
       "      <td>1</td>\n",
       "      <td>L. Messi</td>\n",
       "      <td>30</td>\n",
       "      <td>https://cdn.sofifa.org/48/18/players/158023.png</td>\n",
       "      <td>Argentina</td>\n",
       "      <td>https://cdn.sofifa.org/flags/52.png</td>\n",
       "      <td>93</td>\n",
       "      <td>93</td>\n",
       "      <td>FC Barcelona</td>\n",
       "      <td>https://cdn.sofifa.org/24/18/teams/241.png</td>\n",
       "      <td>€105M</td>\n",
       "      <td>€565K</td>\n",
       "      <td>2154</td>\n",
       "      <td>92</td>\n",
       "      <td>48</td>\n",
       "      <td>...</td>\n",
       "      <td>88.0</td>\n",
       "      <td>91.0</td>\n",
       "      <td>62.0</td>\n",
       "      <td>RW</td>\n",
       "      <td>92.0</td>\n",
       "      <td>57.0</td>\n",
       "      <td>45.0</td>\n",
       "      <td>84.0</td>\n",
       "      <td>59.0</td>\n",
       "      <td>92.0</td>\n",
       "      <td>90.0</td>\n",
       "      <td>88.0</td>\n",
       "      <td>91.0</td>\n",
       "      <td>62.0</td>\n",
       "      <td>88.0</td>\n",
       "    </tr>\n",
       "    <tr>\n",
       "      <th>0</th>\n",
       "      <td>0</td>\n",
       "      <td>Cristiano Ronaldo</td>\n",
       "      <td>32</td>\n",
       "      <td>https://cdn.sofifa.org/48/18/players/20801.png</td>\n",
       "      <td>Portugal</td>\n",
       "      <td>https://cdn.sofifa.org/flags/38.png</td>\n",
       "      <td>94</td>\n",
       "      <td>94</td>\n",
       "      <td>Real Madrid CF</td>\n",
       "      <td>https://cdn.sofifa.org/24/18/teams/243.png</td>\n",
       "      <td>€95.5M</td>\n",
       "      <td>€565K</td>\n",
       "      <td>2228</td>\n",
       "      <td>89</td>\n",
       "      <td>63</td>\n",
       "      <td>...</td>\n",
       "      <td>92.0</td>\n",
       "      <td>91.0</td>\n",
       "      <td>66.0</td>\n",
       "      <td>ST LW</td>\n",
       "      <td>89.0</td>\n",
       "      <td>61.0</td>\n",
       "      <td>53.0</td>\n",
       "      <td>82.0</td>\n",
       "      <td>62.0</td>\n",
       "      <td>91.0</td>\n",
       "      <td>89.0</td>\n",
       "      <td>92.0</td>\n",
       "      <td>91.0</td>\n",
       "      <td>66.0</td>\n",
       "      <td>92.0</td>\n",
       "    </tr>\n",
       "  </tbody>\n",
       "</table>\n",
       "<p>5 rows × 75 columns</p>\n",
       "</div>"
      ],
      "text/plain": [
       "   Unnamed: 0               Name  Age  \\\n",
       "4           4           M. Neuer   31   \n",
       "3           3          L. Suárez   30   \n",
       "2           2             Neymar   25   \n",
       "1           1           L. Messi   30   \n",
       "0           0  Cristiano Ronaldo   32   \n",
       "\n",
       "                                             Photo Nationality  \\\n",
       "4  https://cdn.sofifa.org/48/18/players/167495.png     Germany   \n",
       "3  https://cdn.sofifa.org/48/18/players/176580.png     Uruguay   \n",
       "2  https://cdn.sofifa.org/48/18/players/190871.png      Brazil   \n",
       "1  https://cdn.sofifa.org/48/18/players/158023.png   Argentina   \n",
       "0   https://cdn.sofifa.org/48/18/players/20801.png    Portugal   \n",
       "\n",
       "                                  Flag  Overall  Potential  \\\n",
       "4  https://cdn.sofifa.org/flags/21.png       92         92   \n",
       "3  https://cdn.sofifa.org/flags/60.png       92         92   \n",
       "2  https://cdn.sofifa.org/flags/54.png       92         94   \n",
       "1  https://cdn.sofifa.org/flags/52.png       93         93   \n",
       "0  https://cdn.sofifa.org/flags/38.png       94         94   \n",
       "\n",
       "                  Club                                   Club Logo   Value  \\\n",
       "4     FC Bayern Munich   https://cdn.sofifa.org/24/18/teams/21.png    €61M   \n",
       "3         FC Barcelona  https://cdn.sofifa.org/24/18/teams/241.png    €97M   \n",
       "2  Paris Saint-Germain   https://cdn.sofifa.org/24/18/teams/73.png   €123M   \n",
       "1         FC Barcelona  https://cdn.sofifa.org/24/18/teams/241.png   €105M   \n",
       "0       Real Madrid CF  https://cdn.sofifa.org/24/18/teams/243.png  €95.5M   \n",
       "\n",
       "    Wage  Special Acceleration Aggression  ...    LS    LW   LWB  \\\n",
       "4  €230K     1493           58         29  ...   NaN   NaN   NaN   \n",
       "3  €510K     2291           88         78  ...  88.0  87.0  68.0   \n",
       "2  €280K     2100           94         56  ...  84.0  89.0  64.0   \n",
       "1  €565K     2154           92         48  ...  88.0  91.0  62.0   \n",
       "0  €565K     2228           89         63  ...  92.0  91.0  66.0   \n",
       "\n",
       "  Preferred Positions   RAM    RB   RCB   RCM   RDM    RF    RM    RS    RW  \\\n",
       "4                 GK    NaN   NaN   NaN   NaN   NaN   NaN   NaN   NaN   NaN   \n",
       "3                 ST   87.0  64.0  58.0  80.0  65.0  88.0  85.0  88.0  87.0   \n",
       "2                 LW   88.0  59.0  46.0  79.0  59.0  88.0  87.0  84.0  89.0   \n",
       "1                 RW   92.0  57.0  45.0  84.0  59.0  92.0  90.0  88.0  91.0   \n",
       "0              ST LW   89.0  61.0  53.0  82.0  62.0  91.0  89.0  92.0  91.0   \n",
       "\n",
       "    RWB    ST  \n",
       "4   NaN   NaN  \n",
       "3  68.0  88.0  \n",
       "2  64.0  84.0  \n",
       "1  62.0  88.0  \n",
       "0  66.0  92.0  \n",
       "\n",
       "[5 rows x 75 columns]"
      ]
     },
     "execution_count": 2,
     "metadata": {},
     "output_type": "execute_result"
    }
   ],
   "source": [
    "df = pd.read_csv(\"CompleteDataset.csv\")\n",
    "df.sort_values(\"Overall\", inplace=False).tail()"
   ]
  },
  {
   "cell_type": "code",
   "execution_count": 14,
   "metadata": {
    "scrolled": false
   },
   "outputs": [
    {
     "data": {
      "text/plain": [
       "Overall\n",
       "46    22.625000\n",
       "47    18.000000\n",
       "48    19.000000\n",
       "49    19.408163\n",
       "50    19.052174\n",
       "        ...    \n",
       "90    27.800000\n",
       "91    28.000000\n",
       "92    28.666667\n",
       "93    30.000000\n",
       "94    32.000000\n",
       "Name: Age, Length: 49, dtype: float64"
      ]
     },
     "execution_count": 14,
     "metadata": {},
     "output_type": "execute_result"
    },
    {
     "data": {
      "text/plain": [
       "<BarContainer object of 17981 artists>"
      ]
     },
     "execution_count": 14,
     "metadata": {},
     "output_type": "execute_result"
    },
    {
     "data": {
      "text/plain": [
       "(44, 96)"
      ]
     },
     "execution_count": 14,
     "metadata": {},
     "output_type": "execute_result"
    },
    {
     "data": {
      "text/plain": [
       "([<matplotlib.axis.XTick at 0x1901b4f1188>,\n",
       "  <matplotlib.axis.XTick at 0x1901b4d8588>,\n",
       "  <matplotlib.axis.XTick at 0x1901b4c43c8>,\n",
       "  <matplotlib.axis.XTick at 0x1902ab57908>,\n",
       "  <matplotlib.axis.XTick at 0x1902ab5c748>,\n",
       "  <matplotlib.axis.XTick at 0x1902ab5ce48>,\n",
       "  <matplotlib.axis.XTick at 0x1902ab5e3c8>,\n",
       "  <matplotlib.axis.XTick at 0x1902ab5ec88>,\n",
       "  <matplotlib.axis.XTick at 0x1902ab62588>,\n",
       "  <matplotlib.axis.XTick at 0x1902ab62e48>,\n",
       "  <matplotlib.axis.XTick at 0x1902ab67708>,\n",
       "  <matplotlib.axis.XTick at 0x1902ab6b0c8>],\n",
       " <a list of 12 Text xticklabel objects>)"
      ]
     },
     "execution_count": 14,
     "metadata": {},
     "output_type": "execute_result"
    },
    {
     "data": {
      "text/plain": [
       "([<matplotlib.axis.YTick at 0x1901b51f7c8>,\n",
       "  <matplotlib.axis.YTick at 0x1901b4f9048>,\n",
       "  <matplotlib.axis.YTick at 0x1901b4c4e48>,\n",
       "  <matplotlib.axis.YTick at 0x1902ab6e608>,\n",
       "  <matplotlib.axis.YTick at 0x1902ab675c8>,\n",
       "  <matplotlib.axis.YTick at 0x1902ab5e948>,\n",
       "  <matplotlib.axis.YTick at 0x1902ab719c8>,\n",
       "  <matplotlib.axis.YTick at 0x1902ab75308>,\n",
       "  <matplotlib.axis.YTick at 0x1902ab75b88>,\n",
       "  <matplotlib.axis.YTick at 0x1902ab79788>,\n",
       "  <matplotlib.axis.YTick at 0x1902ab7e2c8>],\n",
       " <a list of 11 Text yticklabel objects>)"
      ]
     },
     "execution_count": 14,
     "metadata": {},
     "output_type": "execute_result"
    },
    {
     "data": {
      "text/plain": [
       "Text(0.5, 1.0, 'max rate per age')"
      ]
     },
     "execution_count": 14,
     "metadata": {},
     "output_type": "execute_result"
    },
    {
     "data": {
      "text/plain": [
       "Text(0.5, 0, 'Age')"
      ]
     },
     "execution_count": 14,
     "metadata": {},
     "output_type": "execute_result"
    },
    {
     "data": {
      "text/plain": [
       "Text(0, 0.5, 'Ingame Ratings')"
      ]
     },
     "execution_count": 14,
     "metadata": {},
     "output_type": "execute_result"
    },
    {
     "data": {
      "image/png": "[encoded data removed]",
      "text/plain": [
       "<Figure size 432x288 with 1 Axes>"
      ]
     },
     "metadata": {
      "needs_background": "light"
     },
     "output_type": "display_data"
    },
    {
     "name": "stdout",
     "output_type": "stream",
     "text": [
      "Гистограмма соотношения max. рейтинга и возраста покажет какой максимальный рейтинг FIFA существует для каждого возраста\n"
     ]
    }
   ],
   "source": [
    "fig, ax = plt.subplots()\n",
    "df.groupby(\"Overall\")[\"Age\"].mean()\n",
    "\n",
    "ax.bar(df[\"Age\"], df[\"Overall\"])\n",
    "plt.ylim(44, 96)\n",
    "plt.xticks(range(15, 49, 3))\n",
    "plt.yticks(range(45, 96, 5))\n",
    "ax.set_title(\"max rate per age\", fontdict={\"fontsize\": 18})\n",
    "ax.set_xlabel(\"Age\")\n",
    "ax.set_ylabel(\"Ingame Ratings\")\n",
    "plt.show()\n",
    "print(\"Гистограмма соотношения max. рейтинга и возраста покажет какой максимальный рейтинг FIFA существует для каждого возраста\")"
   ]
  },
  {
   "cell_type": "code",
   "execution_count": 7,
   "metadata": {},
   "outputs": [],
   "source": [
    "top_clubs = [\"Juventus\", \"Real Madrid CF\", \"FC Bayern Munich\", \"FC Barcelona\", \"Paris Saint-Germain\",\n",
    "             \"Chelsea\", \"Manchester United\", \"Manchester City\", \"Arsenal\", \"Atlético Madrid\"]\n",
    "clubs = df[[\"Age\", 'Nationality', 'Value', 'Wage', \"Club\"]]"
   ]
  },
  {
   "cell_type": "code",
   "execution_count": 11,
   "metadata": {
    "scrolled": true
   },
   "outputs": [
    {
     "data": {
      "text/html": [
       "<div>\n",
       "<style scoped>\n",
       "    .dataframe tbody tr th:only-of-type {\n",
       "        vertical-align: middle;\n",
       "    }\n",
       "\n",
       "    .dataframe tbody tr th {\n",
       "        vertical-align: top;\n",
       "    }\n",
       "\n",
       "    .dataframe thead th {\n",
       "        text-align: right;\n",
       "    }\n",
       "</style>\n",
       "<table border=\"1\" class=\"dataframe\">\n",
       "  <thead>\n",
       "    <tr style=\"text-align: right;\">\n",
       "      <th></th>\n",
       "      <th>Name</th>\n",
       "      <th>Age</th>\n",
       "      <th>Nationality</th>\n",
       "      <th>Value</th>\n",
       "      <th>Wage</th>\n",
       "      <th>Club</th>\n",
       "      <th>salary</th>\n",
       "    </tr>\n",
       "  </thead>\n",
       "  <tbody>\n",
       "    <tr>\n",
       "      <th>0</th>\n",
       "      <td>Cristiano Ronaldo</td>\n",
       "      <td>32</td>\n",
       "      <td>Portugal</td>\n",
       "      <td>€95.5M</td>\n",
       "      <td>€565K</td>\n",
       "      <td>Real Madrid CF</td>\n",
       "      <td>565</td>\n",
       "    </tr>\n",
       "    <tr>\n",
       "      <th>1</th>\n",
       "      <td>L. Messi</td>\n",
       "      <td>30</td>\n",
       "      <td>Argentina</td>\n",
       "      <td>€105M</td>\n",
       "      <td>€565K</td>\n",
       "      <td>FC Barcelona</td>\n",
       "      <td>565</td>\n",
       "    </tr>\n",
       "    <tr>\n",
       "      <th>2</th>\n",
       "      <td>Neymar</td>\n",
       "      <td>25</td>\n",
       "      <td>Brazil</td>\n",
       "      <td>€123M</td>\n",
       "      <td>€280K</td>\n",
       "      <td>Paris Saint-Germain</td>\n",
       "      <td>280</td>\n",
       "    </tr>\n",
       "    <tr>\n",
       "      <th>3</th>\n",
       "      <td>L. Suárez</td>\n",
       "      <td>30</td>\n",
       "      <td>Uruguay</td>\n",
       "      <td>€97M</td>\n",
       "      <td>€510K</td>\n",
       "      <td>FC Barcelona</td>\n",
       "      <td>510</td>\n",
       "    </tr>\n",
       "    <tr>\n",
       "      <th>4</th>\n",
       "      <td>M. Neuer</td>\n",
       "      <td>31</td>\n",
       "      <td>Germany</td>\n",
       "      <td>€61M</td>\n",
       "      <td>€230K</td>\n",
       "      <td>FC Bayern Munich</td>\n",
       "      <td>230</td>\n",
       "    </tr>\n",
       "    <tr>\n",
       "      <th>...</th>\n",
       "      <td>...</td>\n",
       "      <td>...</td>\n",
       "      <td>...</td>\n",
       "      <td>...</td>\n",
       "      <td>...</td>\n",
       "      <td>...</td>\n",
       "      <td>...</td>\n",
       "    </tr>\n",
       "    <tr>\n",
       "      <th>15479</th>\n",
       "      <td>T. Bola</td>\n",
       "      <td>18</td>\n",
       "      <td>England</td>\n",
       "      <td>€250K</td>\n",
       "      <td>€6K</td>\n",
       "      <td>Arsenal</td>\n",
       "      <td>6</td>\n",
       "    </tr>\n",
       "    <tr>\n",
       "      <th>15718</th>\n",
       "      <td>J. Maddox</td>\n",
       "      <td>18</td>\n",
       "      <td>England</td>\n",
       "      <td>€260K</td>\n",
       "      <td>€7K</td>\n",
       "      <td>Chelsea</td>\n",
       "      <td>7</td>\n",
       "    </tr>\n",
       "    <tr>\n",
       "      <th>16598</th>\n",
       "      <td>M. Wood</td>\n",
       "      <td>19</td>\n",
       "      <td>England</td>\n",
       "      <td>€170K</td>\n",
       "      <td>€6K</td>\n",
       "      <td>Manchester City</td>\n",
       "      <td>6</td>\n",
       "    </tr>\n",
       "    <tr>\n",
       "      <th>17346</th>\n",
       "      <td>Erik Sarmiento</td>\n",
       "      <td>18</td>\n",
       "      <td>Spain</td>\n",
       "      <td>€110K</td>\n",
       "      <td>€5K</td>\n",
       "      <td>Manchester City</td>\n",
       "      <td>5</td>\n",
       "    </tr>\n",
       "    <tr>\n",
       "      <th>17961</th>\n",
       "      <td>J. Latibeaudiere</td>\n",
       "      <td>17</td>\n",
       "      <td>England</td>\n",
       "      <td>€60K</td>\n",
       "      <td>€5K</td>\n",
       "      <td>Manchester City</td>\n",
       "      <td>5</td>\n",
       "    </tr>\n",
       "  </tbody>\n",
       "</table>\n",
       "<p>296 rows × 7 columns</p>\n",
       "</div>"
      ],
      "text/plain": [
       "                    Name  Age Nationality   Value   Wage                 Club  \\\n",
       "0      Cristiano Ronaldo   32    Portugal  €95.5M  €565K       Real Madrid CF   \n",
       "1               L. Messi   30   Argentina   €105M  €565K         FC Barcelona   \n",
       "2                 Neymar   25      Brazil   €123M  €280K  Paris Saint-Germain   \n",
       "3              L. Suárez   30     Uruguay    €97M  €510K         FC Barcelona   \n",
       "4               M. Neuer   31     Germany    €61M  €230K     FC Bayern Munich   \n",
       "...                  ...  ...         ...     ...    ...                  ...   \n",
       "15479            T. Bola   18     England   €250K    €6K              Arsenal   \n",
       "15718          J. Maddox   18     England   €260K    €7K              Chelsea   \n",
       "16598            M. Wood   19     England   €170K    €6K      Manchester City   \n",
       "17346     Erik Sarmiento   18       Spain   €110K    €5K      Manchester City   \n",
       "17961   J. Latibeaudiere   17     England    €60K    €5K      Manchester City   \n",
       "\n",
       "       salary  \n",
       "0         565  \n",
       "1         565  \n",
       "2         280  \n",
       "3         510  \n",
       "4         230  \n",
       "...       ...  \n",
       "15479       6  \n",
       "15718       7  \n",
       "16598       6  \n",
       "17346       5  \n",
       "17961       5  \n",
       "\n",
       "[296 rows x 7 columns]"
      ]
     },
     "execution_count": 11,
     "metadata": {},
     "output_type": "execute_result"
    }
   ],
   "source": [
    "data = df[(df.Club.isin(top_clubs))][[\"Name\", \"Age\", 'Nationality', 'Value', 'Wage', \"Club\"]]\n",
    "data['salary'] = data['Wage'].apply(lambda x: int(x[1:-1]))\n",
    "data"
   ]
  },
  {
   "cell_type": "code",
   "execution_count": 15,
   "metadata": {
    "scrolled": false
   },
   "outputs": [
    {
     "data": {
      "text/plain": [
       "<matplotlib.axes._subplots.AxesSubplot at 0x1902aa25348>"
      ]
     },
     "execution_count": 15,
     "metadata": {},
     "output_type": "execute_result"
    },
    {
     "name": "stdout",
     "output_type": "stream",
     "text": [
      "Arsenal\n"
     ]
    },
    {
     "data": {
      "text/plain": [
       "<matplotlib.axes._subplots.AxesSubplot at 0x1902aa25348>"
      ]
     },
     "execution_count": 15,
     "metadata": {},
     "output_type": "execute_result"
    },
    {
     "name": "stdout",
     "output_type": "stream",
     "text": [
      "Atlético Madrid\n"
     ]
    },
    {
     "data": {
      "text/plain": [
       "<matplotlib.axes._subplots.AxesSubplot at 0x1902aa25348>"
      ]
     },
     "execution_count": 15,
     "metadata": {},
     "output_type": "execute_result"
    },
    {
     "name": "stdout",
     "output_type": "stream",
     "text": [
      "Chelsea\n"
     ]
    },
    {
     "data": {
      "text/plain": [
       "<matplotlib.axes._subplots.AxesSubplot at 0x1902aa25348>"
      ]
     },
     "execution_count": 15,
     "metadata": {},
     "output_type": "execute_result"
    },
    {
     "name": "stdout",
     "output_type": "stream",
     "text": [
      "FC Barcelona\n"
     ]
    },
    {
     "data": {
      "text/plain": [
       "<matplotlib.axes._subplots.AxesSubplot at 0x1902aa25348>"
      ]
     },
     "execution_count": 15,
     "metadata": {},
     "output_type": "execute_result"
    },
    {
     "name": "stdout",
     "output_type": "stream",
     "text": [
      "FC Bayern Munich\n"
     ]
    },
    {
     "data": {
      "text/plain": [
       "<matplotlib.axes._subplots.AxesSubplot at 0x1902aa25348>"
      ]
     },
     "execution_count": 15,
     "metadata": {},
     "output_type": "execute_result"
    },
    {
     "name": "stdout",
     "output_type": "stream",
     "text": [
      "Juventus\n"
     ]
    },
    {
     "data": {
      "text/plain": [
       "<matplotlib.axes._subplots.AxesSubplot at 0x1902aa25348>"
      ]
     },
     "execution_count": 15,
     "metadata": {},
     "output_type": "execute_result"
    },
    {
     "name": "stdout",
     "output_type": "stream",
     "text": [
      "Manchester City\n"
     ]
    },
    {
     "data": {
      "text/plain": [
       "<matplotlib.axes._subplots.AxesSubplot at 0x1902aa25348>"
      ]
     },
     "execution_count": 15,
     "metadata": {},
     "output_type": "execute_result"
    },
    {
     "name": "stdout",
     "output_type": "stream",
     "text": [
      "Manchester United\n"
     ]
    },
    {
     "data": {
      "text/plain": [
       "<matplotlib.axes._subplots.AxesSubplot at 0x1902aa25348>"
      ]
     },
     "execution_count": 15,
     "metadata": {},
     "output_type": "execute_result"
    },
    {
     "name": "stdout",
     "output_type": "stream",
     "text": [
      "Paris Saint-Germain\n"
     ]
    },
    {
     "data": {
      "text/plain": [
       "<matplotlib.axes._subplots.AxesSubplot at 0x1902aa25348>"
      ]
     },
     "execution_count": 15,
     "metadata": {},
     "output_type": "execute_result"
    },
    {
     "name": "stdout",
     "output_type": "stream",
     "text": [
      "Real Madrid CF\n"
     ]
    },
    {
     "data": {
      "text/plain": [
       "<matplotlib.axes._subplots.AxesSubplot at 0x1902aa25348>"
      ]
     },
     "execution_count": 15,
     "metadata": {},
     "output_type": "execute_result"
    },
    {
     "data": {
      "text/plain": [
       "<matplotlib.legend.Legend at 0x1902afc41c8>"
      ]
     },
     "execution_count": 15,
     "metadata": {},
     "output_type": "execute_result"
    },
    {
     "data": {
      "text/plain": [
       "(-5, 805)"
      ]
     },
     "execution_count": 15,
     "metadata": {},
     "output_type": "execute_result"
    },
    {
     "data": {
      "text/plain": [
       "([<matplotlib.axis.XTick at 0x1902aa85b88>,\n",
       "  <matplotlib.axis.XTick at 0x1902aa66f88>,\n",
       "  <matplotlib.axis.XTick at 0x1901b4bec88>,\n",
       "  <matplotlib.axis.XTick at 0x1902cc2c9c8>,\n",
       "  <matplotlib.axis.XTick at 0x1901b76f3c8>,\n",
       "  <matplotlib.axis.XTick at 0x1901b76fc08>,\n",
       "  <matplotlib.axis.XTick at 0x1902cb55a88>,\n",
       "  <matplotlib.axis.XTick at 0x1902cb4a0c8>,\n",
       "  <matplotlib.axis.XTick at 0x1902aa73a08>],\n",
       " <a list of 9 Text xticklabel objects>)"
      ]
     },
     "execution_count": 15,
     "metadata": {},
     "output_type": "execute_result"
    },
    {
     "data": {
      "text/plain": [
       "Text(0.5, 1.0, 'Top clubs salaries')"
      ]
     },
     "execution_count": 15,
     "metadata": {},
     "output_type": "execute_result"
    },
    {
     "data": {
      "text/plain": [
       "Text(0.5, 0, \"Salaries's values\")"
      ]
     },
     "execution_count": 15,
     "metadata": {},
     "output_type": "execute_result"
    },
    {
     "data": {
      "text/plain": [
       "Text(0, 0.5, 'human ratio')"
      ]
     },
     "execution_count": 15,
     "metadata": {},
     "output_type": "execute_result"
    },
    {
     "name": "stdout",
     "output_type": "stream",
     "text": [
      "Гистограмма зарплат укажет соотношение получаемых зарплат в топ-10 клубах мира, и покажет где платят самые высокие зарплаты\n"
     ]
    },
    {
     "data": {
      "image/png": "[encoded data removed]",
      "text/plain": [
       "<Figure size 720x360 with 1 Axes>"
      ]
     },
     "metadata": {
      "needs_background": "light"
     },
     "output_type": "display_data"
    }
   ],
   "source": [
    "fig, ax = plt.subplots(figsize=(10,5))\n",
    "\n",
    "data.salary.plot.kde(label='All', ax=ax)\n",
    "for label, class_df in data.groupby('Club'):\n",
    "    print(label)\n",
    "    class_df.salary.plot.kde(ax=ax, label=label)\n",
    "plt.legend()\n",
    "\n",
    "plt.xlim(-5, 805)\n",
    "plt.xticks(range(0, 801, 100))\n",
    "ax.set_title(\"Top clubs salaries\", fontdict={\"fontsize\": 18})\n",
    "ax.set_xlabel(\"Salaries's values\")\n",
    "ax.set_ylabel(\"human ratio\")\n",
    "print(\"Гистограмма зарплат укажет соотношение получаемых зарплат в топ-10 клубах мира, и покажет где платят самые высокие зарплаты\")"
   ]
  },
  {
   "cell_type": "code",
   "execution_count": null,
   "metadata": {},
   "outputs": [],
   "source": []
  }
 ],
 "metadata": {
  "kernelspec": {
   "display_name": "Python 3",
   "language": "python",
   "name": "python3"
  },
  "language_info": {
   "codemirror_mode": {
    "name": "ipython",
    "version": 3
   },
   "file_extension": ".py",
   "mimetype": "text/x-python",
   "name": "python",
   "nbconvert_exporter": "python",
   "pygments_lexer": "ipython3",
   "version": "3.7.6"
  }
 },
 "nbformat": 4,
 "nbformat_minor": 4
}
