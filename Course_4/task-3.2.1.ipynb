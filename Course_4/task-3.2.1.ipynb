{
 "cells": [
  {
   "cell_type": "markdown",
   "metadata": {},
   "source": [
    "# Обучение с учителем\n",
    "## Применение линейной регрессии"
   ]
  },
  {
   "cell_type": "markdown",
   "metadata": {},
   "source": [
    "В этом задании вам предлагается изучить и применить на практике модели линейной регресии,\n",
    "доступные в библиотеке `scikit-learn`."
   ]
  },
  {
   "cell_type": "markdown",
   "metadata": {},
   "source": [
    "Модель линейной регрессии имеет ряд проблем, связанных с переобучением. Другими словами, модель слишком точно приближает зависимость между признаками и целевой переменной на тренировочной выборке, и, как результат, делает достаточно грубые или неточные предсказания на новых данных. Регуляризация является эффективным решением данной проблемы. Введем понятие Гребневой Регрессии (Ridge Regression).\n",
    "\n",
    "Сформулируем задачу минимизации функционала $Q(\\beta)$ для нахождения линейной зависимости между целевой переменной $Y$ и признаками.\n",
    "\n",
    "$$\n",
    "\\begin{equation*}\n",
    "    Q(\\beta) = \\| Y - X \\beta \\|^2 + \\lambda \\| \\beta \\|^2 \\rightarrow \\min\\limits_{\\beta}.\n",
    "\\end{equation*}\n",
    "$$\n",
    "\n",
    "В данном случае, $X$ - матрица признаков, $\\beta$ - вектор параметров, который требуется найти. Таким образом, мы добавляем к функции потерь регуляризатор с параметром $\\lambda$, штрафующий большие значения вектора весов $\\beta$. \n",
    "\n",
    "Настройка коэффициента регуляризации $\\lambda$ - это важная задача в построении модели Гребневой регрессии."
   ]
  },
  {
   "cell_type": "markdown",
   "metadata": {},
   "source": [
    "## Загрузка и разбиение данных"
   ]
  },
  {
   "cell_type": "markdown",
   "metadata": {},
   "source": [
    "Мы будем решать задачу линейной регресии на наборе данных `Boston House Prices`. Он представляет из себя набор различных факторов, которые некоторым образов влияют на среднюю рыночную цену дома в разных районах Бостона. Например, уровень преступности или среднее количество комнат. Наша задача - предсказать цену нового объекта, опираясь на значения этих признаков.\n",
    "\n",
    "Начнем с загрузки этого набора данных и его разбиения. `Boston House Prices` является одним из втроенных наборов данных, доступных в `scikit-learn`. Для его загрузки достаточно вызвать функцию `load_boston` из `sklearn.datasets`. Далее, предлагается случайно разбить выборку на тренировочную и тестовую выборку, используя функцию `train_test_split` из `sklearn.model_selection`, вызвав ее с параметром `random_state=54` и `test_size=0.33`."
   ]
  },
  {
   "cell_type": "code",
   "execution_count": 5,
   "metadata": {},
   "outputs": [],
   "source": [
    "from sklearn.model_selection import train_test_split\n",
    "from sklearn.datasets import load_boston\n",
    "\n",
    "boston = load_boston()\n",
    "X_train, X_test, y_train, y_test = train_test_split(boston.data, boston.target, random_state=54, test_size=0.33)"
   ]
  },
  {
   "cell_type": "markdown",
   "metadata": {},
   "source": [
    "## Настройка параметра регуляризации в Гребневой регрессии"
   ]
  },
  {
   "cell_type": "markdown",
   "metadata": {},
   "source": [
    "Модель Гребневой регрессии представлена классом `Ridge` из `sklearn.linear_model`. Конструктор этого класса содержит аргумент `alpha`, обратное значение которого соответствует параметру регуляризации $\\lambda$. При использовании данной модели установите значение аргумента `random_state=42`. Найдите оптимальное значение коэффициента `alpha` в диапазоне `{10, 20, 30, ..., 90}` начиная со значения 10 до 90 с шагом 10, соответствующее минимальному значению среднеквадратической ошибки на тестовой выборке. Так же укажите это минимальное значение, округленное до трех знаков после запятой. Эти два значения будут являться первым `answer1` и вторым `answer2` ответом в этом практическом задание. Постройте график зависимости среднеквадратической ошибки от значения параметра `alpha`."
   ]
  },
  {
   "cell_type": "markdown",
   "metadata": {},
   "source": [
    "### *РЕШЕНИЕ*"
   ]
  },
  {
   "cell_type": "code",
   "execution_count": 24,
   "metadata": {},
   "outputs": [
    {
     "data": {
      "text/plain": [
       "Ridge(alpha=10, copy_X=True, fit_intercept=True, max_iter=None, normalize=False,\n",
       "      random_state=42, solver='auto', tol=0.001)"
      ]
     },
     "execution_count": 24,
     "metadata": {},
     "output_type": "execute_result"
    },
    {
     "data": {
      "text/plain": [
       "Ridge(alpha=20, copy_X=True, fit_intercept=True, max_iter=None, normalize=False,\n",
       "      random_state=42, solver='auto', tol=0.001)"
      ]
     },
     "execution_count": 24,
     "metadata": {},
     "output_type": "execute_result"
    },
    {
     "data": {
      "text/plain": [
       "Ridge(alpha=30, copy_X=True, fit_intercept=True, max_iter=None, normalize=False,\n",
       "      random_state=42, solver='auto', tol=0.001)"
      ]
     },
     "execution_count": 24,
     "metadata": {},
     "output_type": "execute_result"
    },
    {
     "data": {
      "text/plain": [
       "Ridge(alpha=40, copy_X=True, fit_intercept=True, max_iter=None, normalize=False,\n",
       "      random_state=42, solver='auto', tol=0.001)"
      ]
     },
     "execution_count": 24,
     "metadata": {},
     "output_type": "execute_result"
    },
    {
     "data": {
      "text/plain": [
       "Ridge(alpha=50, copy_X=True, fit_intercept=True, max_iter=None, normalize=False,\n",
       "      random_state=42, solver='auto', tol=0.001)"
      ]
     },
     "execution_count": 24,
     "metadata": {},
     "output_type": "execute_result"
    },
    {
     "data": {
      "text/plain": [
       "Ridge(alpha=60, copy_X=True, fit_intercept=True, max_iter=None, normalize=False,\n",
       "      random_state=42, solver='auto', tol=0.001)"
      ]
     },
     "execution_count": 24,
     "metadata": {},
     "output_type": "execute_result"
    },
    {
     "data": {
      "text/plain": [
       "Ridge(alpha=70, copy_X=True, fit_intercept=True, max_iter=None, normalize=False,\n",
       "      random_state=42, solver='auto', tol=0.001)"
      ]
     },
     "execution_count": 24,
     "metadata": {},
     "output_type": "execute_result"
    },
    {
     "data": {
      "text/plain": [
       "Ridge(alpha=80, copy_X=True, fit_intercept=True, max_iter=None, normalize=False,\n",
       "      random_state=42, solver='auto', tol=0.001)"
      ]
     },
     "execution_count": 24,
     "metadata": {},
     "output_type": "execute_result"
    },
    {
     "data": {
      "text/plain": [
       "Ridge(alpha=90, copy_X=True, fit_intercept=True, max_iter=None, normalize=False,\n",
       "      random_state=42, solver='auto', tol=0.001)"
      ]
     },
     "execution_count": 24,
     "metadata": {},
     "output_type": "execute_result"
    },
    {
     "data": {
      "text/plain": [
       "[23.577406074332583,\n",
       " 23.346202568579073,\n",
       " 23.210726124899388,\n",
       " 23.146903891457942,\n",
       " 23.131846027634108,\n",
       " 23.149749882502057,\n",
       " 23.189977020145893,\n",
       " 23.24531804303734,\n",
       " 23.310828657440528]"
      ]
     },
     "execution_count": 24,
     "metadata": {},
     "output_type": "execute_result"
    },
    {
     "name": "stdout",
     "output_type": "stream",
     "text": [
      "Needful value of lambda: 50, minimal value of mse: 23.132\n"
     ]
    }
   ],
   "source": [
    "import numpy as np\n",
    "from sklearn.linear_model import Ridge\n",
    "from sklearn.metrics import mean_squared_error\n",
    "\n",
    "mses = []\n",
    "lambdas = []\n",
    "\n",
    "for lamb in range(10, 100, 10):\n",
    "    model_train = Ridge(alpha=lamb, random_state=42)\n",
    "    model_train.fit(X_train, y_train)\n",
    "    y_pred = model_train.predict(X_test)\n",
    "    mse = mean_squared_error(y_test, y_pred)\n",
    "    mses.append(mse)\n",
    "    lambdas.append(lamb)\n",
    "    \n",
    "minimum = min(msns)\n",
    "mse_min_index = mses.index(minimum)\n",
    "lambda_mse = lambdas[mse_min_index]\n",
    "answer1, answer2 = lambda_mse, minimum\n",
    "mses\n",
    "print(\"Needful value of lambda: {}, minimal value of mse: {}\".format(answer1, round(answer2, 3)))"
   ]
  },
  {
   "cell_type": "code",
   "execution_count": 68,
   "metadata": {},
   "outputs": [
    {
     "data": {
      "text/plain": [
       "[<matplotlib.lines.Line2D at 0x1b077df3c08>]"
      ]
     },
     "execution_count": 68,
     "metadata": {},
     "output_type": "execute_result"
    },
    {
     "data": {
      "text/plain": [
       "Text(0.5, 1.0, 'Model dependence of lambdas & MSEs')"
      ]
     },
     "execution_count": 68,
     "metadata": {},
     "output_type": "execute_result"
    },
    {
     "data": {
      "text/plain": [
       "Text(0.5, 0, 'All lambdas')"
      ]
     },
     "execution_count": 68,
     "metadata": {},
     "output_type": "execute_result"
    },
    {
     "data": {
      "text/plain": [
       "Text(0, 0.5, 'All MSEs')"
      ]
     },
     "execution_count": 68,
     "metadata": {},
     "output_type": "execute_result"
    },
    {
     "data": {
      "image/png": "[encoded data removed]",
      "text/plain": [
       "<Figure size 432x288 with 1 Axes>"
      ]
     },
     "metadata": {
      "needs_background": "light"
     },
     "output_type": "display_data"
    }
   ],
   "source": [
    "from matplotlib import pyplot as plt\n",
    "\n",
    "plt.plot(lambdas, mses, '--d', color='magenta')\n",
    "plt.title(\"Model dependence of lambdas & MSEs\")\n",
    "plt.xlabel(\"All lambdas\")\n",
    "plt.ylabel(\"All MSEs\")\n",
    "plt.show()"
   ]
  },
  {
   "cell_type": "markdown",
   "metadata": {},
   "source": [
    "В результате, мы нашли оптимальное значение коэффициента `alpha` из предложенных, которое соответствует наиболее точной модели на новых данных. Таким образом, Гребневая регрессия собирает максимум информации из предложенных тренировочных данных."
   ]
  },
  {
   "cell_type": "markdown",
   "metadata": {},
   "source": [
    "## Метод регрессии LASSO"
   ]
  },
  {
   "cell_type": "markdown",
   "metadata": {},
   "source": [
    "Еще одним методом регуляризации, похожем на Гребневую регрессию, является LASSO (least absolute shrinkage and selection operator). В данном случае, задача минимизации функции потерь формулируется следующим образом.\n",
    "\n",
    "$$\n",
    "\\begin{equation*}\n",
    "    \\left\\lbrace\n",
    "        \\begin{array}{c}\n",
    "            Q(\\beta) = \\| Y - X \\beta \\|^2, \\\\\n",
    "            \\sum\\limits_{i=0}^N |\\beta_i| < \\varkappa.\n",
    "        \\end{array}\n",
    "    \\right.\n",
    "\\end{equation*}\n",
    "$$\n",
    "\n",
    "При уменьшении значения $\\varkappa$ все больше коэффициентов $\\beta_i$ обнуляются. Таким образом, LASSO является своеобразным методом отбора признаков и понижения размерности, подробнее о которых вы узнаете на 4-й неделе нашего курса. Этот метод регуляризации выбирает самые информативные признаки, отбрасывая остальные."
   ]
  },
  {
   "cell_type": "markdown",
   "metadata": {},
   "source": [
    "Загрузите набор данных `Diabetes`, используя функцию `load_diabetes` из `sklearn.datasets`. `Diabetes` содержит в себе информацию о различных признаках, таких как возраст, пол, среднее кровяное давление человека и прочие. В качестве целевой переменной выступает количественный показатель прогрессирования заболевания диабет через год после определенного периода (baseline)."
   ]
  },
  {
   "cell_type": "code",
   "execution_count": 102,
   "metadata": {},
   "outputs": [],
   "source": [
    "from sklearn.datasets import load_diabetes\n",
    "\n",
    "diabetes = load_diabetes()"
   ]
  },
  {
   "cell_type": "markdown",
   "metadata": {},
   "source": [
    "Метод LASSO представлен классом `Lasso` из `sklearn.linear_model`. Обучите эту модель на всем наборе данных `Diabetes`. Выберете в качестве параметра конструктора класса `random_state=42`. Какое количество признаков было отсеяно данной моделью? Для этого проанализируйте вектор весов `coef_`, являющийся атрибутом данной модели. В качестве ответа `answer3` на это задание приведите отношение числа выбранных моделью признаков к их общему числу. Ответ округлите до одного знака после запятой."
   ]
  },
  {
   "cell_type": "markdown",
   "metadata": {},
   "source": [
    "### *РЕШЕНИЕ*"
   ]
  },
  {
   "cell_type": "code",
   "execution_count": 101,
   "metadata": {},
   "outputs": [
    {
     "data": {
      "text/plain": [
       "Lasso(alpha=1.0, copy_X=True, fit_intercept=True, max_iter=1000,\n",
       "      normalize=False, positive=False, precompute=False, random_state=42,\n",
       "      selection='cyclic', tol=0.0001, warm_start=False)"
      ]
     },
     "execution_count": 101,
     "metadata": {},
     "output_type": "execute_result"
    },
    {
     "name": "stdout",
     "output_type": "stream",
     "text": [
      "Coef dependency for Lasso: 0.3\n"
     ]
    }
   ],
   "source": [
    "from sklearn.linear_model import Lasso\n",
    "\n",
    "X_train_dia, X_test_dia, y_train_dia, y_test_dia = train_test_split(diabetes.data, diabetes.target)\n",
    "model_dia = Lasso(random_state=42)\n",
    "model_dia.fit(X_train_dia, y_train_dia)\n",
    "y_pred_dia = model_dia.predict(X_test_dia)\n",
    "\n",
    "coef_counter = 0\n",
    "n = 0\n",
    "for coef in model_dia.coef_:\n",
    "    n += 1\n",
    "    if coef > 0:\n",
    "        coef_counter += 1\n",
    "    \n",
    "answer3 = round(coef_counter/n, 1)\n",
    "print(\"Coef dependency for Lasso: {}\".format(answer3))"
   ]
  },
  {
   "cell_type": "markdown",
   "metadata": {},
   "source": [
    "Далее обучите модель `Lasso` с параметром конструктора `random_state=42` на тренировочной выборке датасета `Boston House Prices` и посчитайте значение среднеквадратической ошибки на тестовой выборке. Приведите это значение в качестве ответа `answer4`, округленного до трех знаков после запятой. Сравните это значение с результатом, полученным Гребневой регрессией."
   ]
  },
  {
   "cell_type": "markdown",
   "metadata": {},
   "source": [
    "### *РЕШЕНИЕ*"
   ]
  },
  {
   "cell_type": "code",
   "execution_count": 76,
   "metadata": {},
   "outputs": [
    {
     "data": {
      "text/plain": [
       "Lasso(alpha=1.0, copy_X=True, fit_intercept=True, max_iter=1000,\n",
       "      normalize=False, positive=False, precompute=False, random_state=42,\n",
       "      selection='cyclic', tol=0.0001, warm_start=False)"
      ]
     },
     "execution_count": 76,
     "metadata": {},
     "output_type": "execute_result"
    },
    {
     "name": "stdout",
     "output_type": "stream",
     "text": [
      "MSE_from_Lasso: 26.917\n"
     ]
    }
   ],
   "source": [
    "model_train = Lasso(random_state=42)\n",
    "model_train.fit(X_train, y_train)\n",
    "y_pred = model_train.predict(X_test)\n",
    "mse = mean_squared_error(y_test, y_pred)\n",
    "answer4 = mse\n",
    "print(\"MSE_from_Lasso: {}\".format(round(answer4, 3)))"
   ]
  },
  {
   "cell_type": "markdown",
   "metadata": {},
   "source": [
    "# Строка с ответами"
   ]
  },
  {
   "cell_type": "code",
   "execution_count": 99,
   "metadata": {},
   "outputs": [
    {
     "name": "stdout",
     "output_type": "stream",
     "text": [
      "alpha: 50\n",
      "mse error(ridge): 23.132\n",
      "ratio: 0.3\n",
      "mse error(lasso): 26.917\n"
     ]
    }
   ],
   "source": [
    "output = \"alpha: {0}\\nmse error(ridge): {1:.3f}\\nratio: {2:.1f}\\nmse error(lasso): {3:.3f}\"\n",
    "print(output.format(answer1, answer2, answer3, answer4))"
   ]
  },
  {
   "cell_type": "code",
   "execution_count": null,
   "metadata": {},
   "outputs": [],
   "source": []
  }
 ],
 "metadata": {
  "kernelspec": {
   "display_name": "Python 3",
   "language": "python",
   "name": "python3"
  },
  "language_info": {
   "codemirror_mode": {
    "name": "ipython",
    "version": 3
   },
   "file_extension": ".py",
   "mimetype": "text/x-python",
   "name": "python",
   "nbconvert_exporter": "python",
   "pygments_lexer": "ipython3",
   "version": "3.7.6"
  }
 },
 "nbformat": 4,
 "nbformat_minor": 2
}
