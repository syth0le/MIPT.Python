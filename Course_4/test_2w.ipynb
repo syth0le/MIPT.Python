{
 "cells": [
  {
   "cell_type": "code",
   "execution_count": 1,
   "metadata": {},
   "outputs": [],
   "source": [
    "from scipy import stats\n",
    "import matplotlib.pyplot as plt\n",
    "%matplotlib inline\n",
    "import pandas as pd\n",
    "import numpy as np"
   ]
  },
  {
   "cell_type": "markdown",
   "metadata": {},
   "source": [
    "### A/B тестирование"
   ]
  },
  {
   "cell_type": "markdown",
   "metadata": {},
   "source": [
    "В этом задании вы познакомитесь с A/B тестированием и примените полученные знания по статистике. \n",
    "\n",
    "Рассмотрим A/B тестирование на примере сайта. У сайта есть два дизайна - старый и новый, и мы хотим оценить, насколько новый дизайн лучше старого. Для этого пользователи сайта случайным образом разделяются на контрольную и тестовую группы. Контрольной группе показывается старая версия сайта, тестовой группе - измененная версия. Оценить изменение можно несколькими способами, самый простой - оценить конверсию. Конверсия - доля пользователей, совершивших заранее определенное действие(например подписка, нажатие на кнопку, заполнение формы)."
   ]
  },
  {
   "cell_type": "markdown",
   "metadata": {},
   "source": [
    "### Описание данных"
   ]
  },
  {
   "cell_type": "markdown",
   "metadata": {},
   "source": [
    "Для начала нужно загрузить данные из файла `a_b_testing.csv` при помощи функции `read_csv` из библиотеки `pandas`. В данном случае 1 - была совершена подписка на сайт, 0 - подписки не было. A - контрольная группа, B - тестовая группа."
   ]
  },
  {
   "cell_type": "markdown",
   "metadata": {},
   "source": [
    "Далее нужно выполнить следующие пункты, описание выходного формата содержится внутри каждого задания."
   ]
  },
  {
   "cell_type": "markdown",
   "metadata": {},
   "source": [
    "### Доверительный интервал"
   ]
  },
  {
   "cell_type": "markdown",
   "metadata": {},
   "source": [
    "В видео про доверительный интервал мы рассмотрели, как можно аппроксимировать биномиальное распределение нормальным. В некоторых случаях параметры нормального распределения можно вывести математически и ниже мы рассмотрим как."
   ]
  },
  {
   "cell_type": "markdown",
   "metadata": {},
   "source": [
    "Представим количество пользователей как случайную величину из биномиального распределения с параметрами  `n`  - количество пользователей и `p` - вероятность конверсии или как сумму  `n`  независимых бросаний монетки. Определим следующую случайную величину:\n",
    "\n",
    "$$Y = X_{1} + X_{2} + \\dots + X_{n} , \\, $$\n",
    "где случайная величина $X_{i}$ имеет распределение Бернулли. Для случайной величины $Y$ математическое ожидание и дисперсия равны:\n",
    "\n",
    "$$\\mu = np, \\, \\sigma^{2} = np\\cdot(1 - p)$$\n",
    "\n",
    "Далее применяя центральную предельную теорему(случайные величины $X_{i}$ распределены независимо и размер выборки большой), получаем что \n",
    "\n",
    "$$Y \\sim \\mathcal{N}(np \\, np\\cdot(1 - p))\\$$\n",
    "\n",
    "Мы перешли от биномиального распределения к нормальному. Следующий шаг - стандартизация нормального распределения:\n",
    "\n",
    "$$Z = \\frac{Y - np}{\\sqrt{np\\cdot(1-p)}} \\sim \\mathcal{N}(0, \\, 1) $$ \n",
    "\n",
    "Преобразуем выражение выше:\n",
    "\n",
    "$$Z = \\frac{Y - np}{\\sqrt{np\\cdot(1-p)}} = \\frac{\\frac{Y}{n} - p}{\\sqrt{\\frac{p(1-p)}{n}}} \\sim \\mathcal{N}(0, \\, 1) $$"
   ]
  },
  {
   "cell_type": "markdown",
   "metadata": {},
   "source": [
    "Так как среднее значение по выборке - это наблюдаемый процент конверсии, то доверительный интервал будет выглядеть следующим образом:"
   ]
  },
  {
   "cell_type": "markdown",
   "metadata": {},
   "source": [
    "$${P}\\left(p - z_{1-\\frac{\\alpha}{2}} \\sqrt{\\frac{p(1-p)}{n}} \\le \\mu \\le p + z_{1-\\frac{\\alpha}{2}}\\sqrt{\\frac{p(1-p)}{n}}\\right) = 1-\\alpha$$"
   ]
  },
  {
   "cell_type": "markdown",
   "metadata": {},
   "source": [
    "### ЗАДАНИЕ"
   ]
  },
  {
   "cell_type": "markdown",
   "metadata": {},
   "source": [
    "Найдите доверительный интервал для средней конверсии пользователей из контрольной выборки с уровнем значимости 95%. Округлите левую и правую границу с точностью до двух знаков после запятой. Запишите значения левой и правой границ через запятую, сохраняя приведенный порядок, в переменную `answer1`, которая будет являтся строкой."
   ]
  },
  {
   "cell_type": "markdown",
   "metadata": {},
   "source": [
    "#### РЕШЕНИЕ"
   ]
  },
  {
   "cell_type": "code",
   "execution_count": 39,
   "metadata": {},
   "outputs": [
    {
     "data": {
      "text/plain": [
       "2037"
      ]
     },
     "execution_count": 39,
     "metadata": {},
     "output_type": "execute_result"
    },
    {
     "data": {
      "text/plain": [
       "0       1\n",
       "1       0\n",
       "2       0\n",
       "4       1\n",
       "7       0\n",
       "       ..\n",
       "3993    1\n",
       "3994    0\n",
       "3995    1\n",
       "3996    0\n",
       "3999    1\n",
       "Name: converted, Length: 2037, dtype: int64"
      ]
     },
     "execution_count": 39,
     "metadata": {},
     "output_type": "execute_result"
    }
   ],
   "source": [
    "df = pd.read_csv(\"a_b_testing.csv\")\n",
    "dfs = df[(df.group.isin([\"A\"]))][\"converted\"]\n",
    "n = dfs.shape[0]\n",
    "n\n",
    "dfs"
   ]
  },
  {
   "cell_type": "code",
   "execution_count": 50,
   "metadata": {},
   "outputs": [
    {
     "data": {
      "text/plain": [
       "0.050000000000000044"
      ]
     },
     "execution_count": 50,
     "metadata": {},
     "output_type": "execute_result"
    }
   ],
   "source": [
    "std_dfs = np.std(dfs)\n",
    "dispertion_dfs = np.var(dfs)\n",
    "p = np.mean(dfs)\n",
    "alpha = 1 - 0.95\n",
    "alpha"
   ]
  },
  {
   "cell_type": "code",
   "execution_count": 48,
   "metadata": {},
   "outputs": [
    {
     "data": {
      "text/plain": [
       "1.959963984540054"
      ]
     },
     "execution_count": 48,
     "metadata": {},
     "output_type": "execute_result"
    }
   ],
   "source": [
    "z_value = stats.norm.ppf(q = 1 - alpha / 2)\n",
    "z_value"
   ]
  },
  {
   "cell_type": "code",
   "execution_count": 51,
   "metadata": {},
   "outputs": [
    {
     "data": {
      "text/plain": [
       "0.02137326827255512"
      ]
     },
     "execution_count": 51,
     "metadata": {},
     "output_type": "execute_result"
    }
   ],
   "source": [
    "interval = z_value * np.sqrt(p*(1-p)/n)\n",
    "interval"
   ]
  },
  {
   "cell_type": "code",
   "execution_count": 55,
   "metadata": {},
   "outputs": [
    {
     "data": {
      "text/plain": [
       "'0.39,0.43'"
      ]
     },
     "execution_count": 55,
     "metadata": {},
     "output_type": "execute_result"
    }
   ],
   "source": [
    "answer1 = \"{},{}\".format(round(p - interval, 2), round(p + interval, 2))\n",
    "answer1"
   ]
  },
  {
   "cell_type": "markdown",
   "metadata": {},
   "source": [
    "### Задача A/B тестирования"
   ]
  },
  {
   "cell_type": "markdown",
   "metadata": {},
   "source": [
    "Рассмотрим независимые выборки $X$ и $Y$ для которых есть $\\mu_x$ и $\\mu_y$, определяющие среднее значение распределения.\n",
    "\n",
    "Рассматривается следующая гипотеза:\n",
    "$$\n",
    "H_0: \\mu_x = \\mu_y\n",
    "$$\n",
    "против альтернативы:\n",
    "\n",
    "$$\n",
    "H_1: \\mu_x \\ne \\mu_y.\n",
    "$$"
   ]
  },
  {
   "cell_type": "markdown",
   "metadata": {},
   "source": [
    "Если гипотеза $H_0$ отвергается, то показатель действительно поменялся."
   ]
  },
  {
   "cell_type": "markdown",
   "metadata": {},
   "source": [
    "Также можно тест можно записать и другим способом:\n",
    "$$\n",
    "H_0: \\mu_x \\le \\mu_y\n",
    "$$\n",
    "\n",
    "против альтернативы:\n",
    "\n",
    "$$\n",
    "H_1: \\mu_x > \\mu_y\n",
    "$$"
   ]
  },
  {
   "cell_type": "markdown",
   "metadata": {},
   "source": [
    "### Задание по статистике Стьюдента "
   ]
  },
  {
   "cell_type": "markdown",
   "metadata": {},
   "source": [
    "Найдите значение статистики Стьюдента в предположении независимости выборок по формуле:"
   ]
  },
  {
   "cell_type": "markdown",
   "metadata": {},
   "source": [
    "$$\n",
    "T(X, Y) = \\frac{\\bar{X} - \\bar{Y}}{\\sqrt{\\frac{s_x^2}{n} + \\frac{s_y^2}{m}}}\n",
    "$$\n",
    "\n",
    "где `n` - размер контрольной выборки, `m`  - размер тестовой выборки."
   ]
  },
  {
   "cell_type": "markdown",
   "metadata": {},
   "source": [
    "Ответ запишите в переменную `answer2` с точностью до двух знаков после запятой."
   ]
  },
  {
   "cell_type": "markdown",
   "metadata": {},
   "source": [
    "### РЕШЕНИЕ"
   ]
  },
  {
   "cell_type": "code",
   "execution_count": 62,
   "metadata": {},
   "outputs": [
    {
     "data": {
      "text/plain": [
       "(2037, 1963)"
      ]
     },
     "execution_count": 62,
     "metadata": {},
     "output_type": "execute_result"
    }
   ],
   "source": [
    "df = pd.read_csv(\"a_b_testing.csv\")\n",
    "dfA = dfs = df[(df.group.isin([\"A\"]))][\"converted\"]\n",
    "dfB = df[(df.group.isin([\"B\"]))][\"converted\"]\n",
    "n, m = dfA.shape[0], dfB.shape[0]\n",
    "n, m"
   ]
  },
  {
   "cell_type": "code",
   "execution_count": 64,
   "metadata": {},
   "outputs": [
    {
     "data": {
      "text/plain": [
       "(0.49217365194459234, 0.496026047975474)"
      ]
     },
     "execution_count": 64,
     "metadata": {},
     "output_type": "execute_result"
    }
   ],
   "source": [
    "std_dfA = np.std(dfA)\n",
    "std_dfB = np.std(dfB)\n",
    "(std_dfA, std_dfB)"
   ]
  },
  {
   "cell_type": "code",
   "execution_count": 66,
   "metadata": {},
   "outputs": [
    {
     "data": {
      "text/plain": [
       "(0.4118802160039273, 0.4370860927152318)"
      ]
     },
     "execution_count": 66,
     "metadata": {},
     "output_type": "execute_result"
    }
   ],
   "source": [
    "pA = dfA.mean()\n",
    "pB = dfB.mean()\n",
    "pA, pB"
   ]
  },
  {
   "cell_type": "code",
   "execution_count": 71,
   "metadata": {},
   "outputs": [
    {
     "data": {
      "text/plain": [
       "-1.61"
      ]
     },
     "execution_count": 71,
     "metadata": {},
     "output_type": "execute_result"
    }
   ],
   "source": [
    "t = (pA - pB) / np.sqrt(pow(std_dfA, 2)/n + pow(std_dfB, 2)/m)\n",
    "answer2 = round(t, 2)\n",
    "answer2"
   ]
  },
  {
   "cell_type": "markdown",
   "metadata": {},
   "source": [
    "### Статистика Стьюдента из библиотеки Scipy"
   ]
  },
  {
   "cell_type": "markdown",
   "metadata": {},
   "source": [
    "Найдите p-value для статистики Стьюдента, используя функцию `stats.ttest_ind`."
   ]
  },
  {
   "cell_type": "markdown",
   "metadata": {},
   "source": [
    "### РЕШЕНИЕ"
   ]
  },
  {
   "cell_type": "code",
   "execution_count": 72,
   "metadata": {},
   "outputs": [],
   "source": [
    "from scipy.stats import ttest_ind\n",
    "df = pd.read_csv('a_b_testing.csv')"
   ]
  },
  {
   "cell_type": "code",
   "execution_count": 77,
   "metadata": {},
   "outputs": [
    {
     "data": {
      "text/plain": [
       "0.11"
      ]
     },
     "execution_count": 77,
     "metadata": {},
     "output_type": "execute_result"
    }
   ],
   "source": [
    "dfA = dfs = df[(df.group.isin([\"A\"]))][\"converted\"]\n",
    "dfB = df[(df.group.isin([\"B\"]))][\"converted\"]\n",
    "answer3 = round(ttest_ind(dfA, dfB)[1], 2)\n",
    "answer3"
   ]
  },
  {
   "cell_type": "markdown",
   "metadata": {},
   "source": [
    "Дополнительная проверка: значение статистики Стьюдента, посчитанная двумя способами, должны совпадать."
   ]
  },
  {
   "cell_type": "markdown",
   "metadata": {},
   "source": [
    "Ответ запишите в переменную `answer3` с точностью до 2 знака после запятой"
   ]
  }
 ],
 "metadata": {
  "kernelspec": {
   "display_name": "Python 3",
   "language": "python",
   "name": "python3"
  },
  "language_info": {
   "codemirror_mode": {
    "name": "ipython",
    "version": 3
   },
   "file_extension": ".py",
   "mimetype": "text/x-python",
   "name": "python",
   "nbconvert_exporter": "python",
   "pygments_lexer": "ipython3",
   "version": "3.7.6"
  },
  "toc": {
   "nav_menu": {},
   "number_sections": true,
   "sideBar": true,
   "skip_h1_title": false,
   "toc_cell": false,
   "toc_position": {},
   "toc_section_display": "block",
   "toc_window_display": false
  },
  "varInspector": {
   "cols": {
    "lenName": 16,
    "lenType": 16,
    "lenVar": 40
   },
   "kernels_config": {
    "python": {
     "delete_cmd_postfix": "",
     "delete_cmd_prefix": "del ",
     "library": "var_list.py",
     "varRefreshCmd": "print(var_dic_list())"
    },
    "r": {
     "delete_cmd_postfix": ") ",
     "delete_cmd_prefix": "rm(",
     "library": "var_list.r",
     "varRefreshCmd": "cat(var_dic_list()) "
    }
   },
   "position": {
    "height": "349px",
    "left": "1068px",
    "right": "20px",
    "top": "120px",
    "width": "352px"
   },
   "types_to_exclude": [
    "module",
    "function",
    "builtin_function_or_method",
    "instance",
    "_Feature"
   ],
   "window_display": false
  }
 },
 "nbformat": 4,
 "nbformat_minor": 2
}
