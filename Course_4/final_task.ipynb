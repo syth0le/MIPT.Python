{
 "cells": [
  {
   "cell_type": "code",
   "execution_count": 72,
   "metadata": {},
   "outputs": [],
   "source": [
    "import tensorflow as tf\n",
    "from tensorflow import keras\n",
    "import matplotlib.pyplot as plt\n",
    "import numpy as np\n",
    "import pandas as pd\n",
    "from sklearn.preprocessing import OneHotEncoder\n",
    "from sklearn.linear_model import LogisticRegression\n",
    "\n",
    "%matplotlib inline"
   ]
  },
  {
   "cell_type": "markdown",
   "metadata": {},
   "source": [
    "## Data importing and normalization."
   ]
  },
  {
   "cell_type": "code",
   "execution_count": 73,
   "metadata": {},
   "outputs": [],
   "source": [
    "train = pd.read_csv('fashion-mnist_train.csv')\n",
    "test = pd.read_csv('fashion-mnist_test.csv')"
   ]
  },
  {
   "cell_type": "code",
   "execution_count": 74,
   "metadata": {},
   "outputs": [],
   "source": [
    "x_train = train.loc[:, train.columns != 'label'] \n",
    "y_train = train['label']"
   ]
  },
  {
   "cell_type": "code",
   "execution_count": 75,
   "metadata": {},
   "outputs": [],
   "source": [
    "x_test = test.loc[:, test.columns != 'label']\n",
    "y_test = test['label']"
   ]
  },
  {
   "cell_type": "code",
   "execution_count": 76,
   "metadata": {},
   "outputs": [],
   "source": [
    "x_train = x_train.astype('float32')\n",
    "x_test = x_test.astype('float32')\n",
    "\n",
    "x_train, x_test = x_train / 255.0, x_test / 255.0"
   ]
  },
  {
   "cell_type": "code",
   "execution_count": 92,
   "metadata": {},
   "outputs": [],
   "source": [
    "enc = OneHotEncoder()\n",
    "\n",
    "y_train = enc.fit_transform(np.reshape(np.array(y_train), (-1,1))).toarray()\n",
    "y_test = enc.transform(np.reshape(np.array(y_test), (-1,1))).toarray()"
   ]
  },
  {
   "cell_type": "code",
   "execution_count": 93,
   "metadata": {},
   "outputs": [
    {
     "data": {
      "text/plain": [
       "(10000, 784)"
      ]
     },
     "execution_count": 93,
     "metadata": {},
     "output_type": "execute_result"
    },
    {
     "data": {
      "text/plain": [
       "(60000, 784)"
      ]
     },
     "execution_count": 93,
     "metadata": {},
     "output_type": "execute_result"
    },
    {
     "data": {
      "text/plain": [
       "(10000, 10)"
      ]
     },
     "execution_count": 93,
     "metadata": {},
     "output_type": "execute_result"
    },
    {
     "data": {
      "text/plain": [
       "(60000, 10)"
      ]
     },
     "execution_count": 93,
     "metadata": {},
     "output_type": "execute_result"
    }
   ],
   "source": [
    "x_test.shape\n",
    "x_train.shape\n",
    "y_test.shape\n",
    "y_train.shape"
   ]
  },
  {
   "cell_type": "code",
   "execution_count": 96,
   "metadata": {},
   "outputs": [
    {
     "data": {
      "text/html": [
       "<div>\n",
       "<style scoped>\n",
       "    .dataframe tbody tr th:only-of-type {\n",
       "        vertical-align: middle;\n",
       "    }\n",
       "\n",
       "    .dataframe tbody tr th {\n",
       "        vertical-align: top;\n",
       "    }\n",
       "\n",
       "    .dataframe thead th {\n",
       "        text-align: right;\n",
       "    }\n",
       "</style>\n",
       "<table border=\"1\" class=\"dataframe\">\n",
       "  <thead>\n",
       "    <tr style=\"text-align: right;\">\n",
       "      <th></th>\n",
       "      <th>pixel1</th>\n",
       "      <th>pixel2</th>\n",
       "      <th>pixel3</th>\n",
       "      <th>pixel4</th>\n",
       "      <th>pixel5</th>\n",
       "      <th>pixel6</th>\n",
       "      <th>pixel7</th>\n",
       "      <th>pixel8</th>\n",
       "      <th>pixel9</th>\n",
       "      <th>pixel10</th>\n",
       "      <th>pixel11</th>\n",
       "      <th>pixel12</th>\n",
       "      <th>pixel13</th>\n",
       "      <th>pixel14</th>\n",
       "      <th>pixel15</th>\n",
       "      <th>...</th>\n",
       "      <th>pixel770</th>\n",
       "      <th>pixel771</th>\n",
       "      <th>pixel772</th>\n",
       "      <th>pixel773</th>\n",
       "      <th>pixel774</th>\n",
       "      <th>pixel775</th>\n",
       "      <th>pixel776</th>\n",
       "      <th>pixel777</th>\n",
       "      <th>pixel778</th>\n",
       "      <th>pixel779</th>\n",
       "      <th>pixel780</th>\n",
       "      <th>pixel781</th>\n",
       "      <th>pixel782</th>\n",
       "      <th>pixel783</th>\n",
       "      <th>pixel784</th>\n",
       "    </tr>\n",
       "  </thead>\n",
       "  <tbody>\n",
       "    <tr>\n",
       "      <th>0</th>\n",
       "      <td>0.0</td>\n",
       "      <td>0.0</td>\n",
       "      <td>0.0</td>\n",
       "      <td>0.000000</td>\n",
       "      <td>0.000000</td>\n",
       "      <td>0.0</td>\n",
       "      <td>0.0</td>\n",
       "      <td>0.000000</td>\n",
       "      <td>0.0</td>\n",
       "      <td>0.0</td>\n",
       "      <td>0.000000</td>\n",
       "      <td>0.000000</td>\n",
       "      <td>0.000000</td>\n",
       "      <td>0.000000</td>\n",
       "      <td>0.000000</td>\n",
       "      <td>...</td>\n",
       "      <td>0.000000</td>\n",
       "      <td>0.000000</td>\n",
       "      <td>0.000000</td>\n",
       "      <td>0.000000</td>\n",
       "      <td>0.000000</td>\n",
       "      <td>0.000000</td>\n",
       "      <td>0.000000</td>\n",
       "      <td>0.000000</td>\n",
       "      <td>0.000000</td>\n",
       "      <td>0.000000</td>\n",
       "      <td>0.000000</td>\n",
       "      <td>0.0</td>\n",
       "      <td>0.0</td>\n",
       "      <td>0.0</td>\n",
       "      <td>0.0</td>\n",
       "    </tr>\n",
       "    <tr>\n",
       "      <th>1</th>\n",
       "      <td>0.0</td>\n",
       "      <td>0.0</td>\n",
       "      <td>0.0</td>\n",
       "      <td>0.000000</td>\n",
       "      <td>0.000000</td>\n",
       "      <td>0.0</td>\n",
       "      <td>0.0</td>\n",
       "      <td>0.000000</td>\n",
       "      <td>0.0</td>\n",
       "      <td>0.0</td>\n",
       "      <td>0.000000</td>\n",
       "      <td>0.000000</td>\n",
       "      <td>0.000000</td>\n",
       "      <td>0.000000</td>\n",
       "      <td>0.000000</td>\n",
       "      <td>...</td>\n",
       "      <td>0.000000</td>\n",
       "      <td>0.000000</td>\n",
       "      <td>0.000000</td>\n",
       "      <td>0.000000</td>\n",
       "      <td>0.000000</td>\n",
       "      <td>0.000000</td>\n",
       "      <td>0.000000</td>\n",
       "      <td>0.000000</td>\n",
       "      <td>0.000000</td>\n",
       "      <td>0.000000</td>\n",
       "      <td>0.000000</td>\n",
       "      <td>0.0</td>\n",
       "      <td>0.0</td>\n",
       "      <td>0.0</td>\n",
       "      <td>0.0</td>\n",
       "    </tr>\n",
       "    <tr>\n",
       "      <th>2</th>\n",
       "      <td>0.0</td>\n",
       "      <td>0.0</td>\n",
       "      <td>0.0</td>\n",
       "      <td>0.000000</td>\n",
       "      <td>0.000000</td>\n",
       "      <td>0.0</td>\n",
       "      <td>0.0</td>\n",
       "      <td>0.019608</td>\n",
       "      <td>0.0</td>\n",
       "      <td>0.0</td>\n",
       "      <td>0.000000</td>\n",
       "      <td>0.411765</td>\n",
       "      <td>0.360784</td>\n",
       "      <td>0.396078</td>\n",
       "      <td>0.419608</td>\n",
       "      <td>...</td>\n",
       "      <td>0.839216</td>\n",
       "      <td>0.639216</td>\n",
       "      <td>0.572549</td>\n",
       "      <td>0.647059</td>\n",
       "      <td>0.309804</td>\n",
       "      <td>0.000000</td>\n",
       "      <td>0.000000</td>\n",
       "      <td>0.000000</td>\n",
       "      <td>0.117647</td>\n",
       "      <td>0.168627</td>\n",
       "      <td>0.000000</td>\n",
       "      <td>0.0</td>\n",
       "      <td>0.0</td>\n",
       "      <td>0.0</td>\n",
       "      <td>0.0</td>\n",
       "    </tr>\n",
       "    <tr>\n",
       "      <th>3</th>\n",
       "      <td>0.0</td>\n",
       "      <td>0.0</td>\n",
       "      <td>0.0</td>\n",
       "      <td>0.003922</td>\n",
       "      <td>0.007843</td>\n",
       "      <td>0.0</td>\n",
       "      <td>0.0</td>\n",
       "      <td>0.000000</td>\n",
       "      <td>0.0</td>\n",
       "      <td>0.0</td>\n",
       "      <td>0.447059</td>\n",
       "      <td>0.717647</td>\n",
       "      <td>0.439216</td>\n",
       "      <td>0.215686</td>\n",
       "      <td>0.090196</td>\n",
       "      <td>...</td>\n",
       "      <td>0.270588</td>\n",
       "      <td>0.203922</td>\n",
       "      <td>0.176471</td>\n",
       "      <td>0.290196</td>\n",
       "      <td>0.152941</td>\n",
       "      <td>0.011765</td>\n",
       "      <td>0.000000</td>\n",
       "      <td>0.000000</td>\n",
       "      <td>0.000000</td>\n",
       "      <td>0.000000</td>\n",
       "      <td>0.003922</td>\n",
       "      <td>0.0</td>\n",
       "      <td>0.0</td>\n",
       "      <td>0.0</td>\n",
       "      <td>0.0</td>\n",
       "    </tr>\n",
       "    <tr>\n",
       "      <th>4</th>\n",
       "      <td>0.0</td>\n",
       "      <td>0.0</td>\n",
       "      <td>0.0</td>\n",
       "      <td>0.000000</td>\n",
       "      <td>0.000000</td>\n",
       "      <td>0.0</td>\n",
       "      <td>0.0</td>\n",
       "      <td>0.000000</td>\n",
       "      <td>0.0</td>\n",
       "      <td>0.0</td>\n",
       "      <td>0.000000</td>\n",
       "      <td>0.000000</td>\n",
       "      <td>0.180392</td>\n",
       "      <td>0.000000</td>\n",
       "      <td>0.082353</td>\n",
       "      <td>...</td>\n",
       "      <td>0.576471</td>\n",
       "      <td>0.564706</td>\n",
       "      <td>0.474510</td>\n",
       "      <td>0.400000</td>\n",
       "      <td>0.247059</td>\n",
       "      <td>0.000000</td>\n",
       "      <td>0.000000</td>\n",
       "      <td>0.000000</td>\n",
       "      <td>0.000000</td>\n",
       "      <td>0.000000</td>\n",
       "      <td>0.000000</td>\n",
       "      <td>0.0</td>\n",
       "      <td>0.0</td>\n",
       "      <td>0.0</td>\n",
       "      <td>0.0</td>\n",
       "    </tr>\n",
       "    <tr>\n",
       "      <th>...</th>\n",
       "      <td>...</td>\n",
       "      <td>...</td>\n",
       "      <td>...</td>\n",
       "      <td>...</td>\n",
       "      <td>...</td>\n",
       "      <td>...</td>\n",
       "      <td>...</td>\n",
       "      <td>...</td>\n",
       "      <td>...</td>\n",
       "      <td>...</td>\n",
       "      <td>...</td>\n",
       "      <td>...</td>\n",
       "      <td>...</td>\n",
       "      <td>...</td>\n",
       "      <td>...</td>\n",
       "      <td>...</td>\n",
       "      <td>...</td>\n",
       "      <td>...</td>\n",
       "      <td>...</td>\n",
       "      <td>...</td>\n",
       "      <td>...</td>\n",
       "      <td>...</td>\n",
       "      <td>...</td>\n",
       "      <td>...</td>\n",
       "      <td>...</td>\n",
       "      <td>...</td>\n",
       "      <td>...</td>\n",
       "      <td>...</td>\n",
       "      <td>...</td>\n",
       "      <td>...</td>\n",
       "      <td>...</td>\n",
       "    </tr>\n",
       "    <tr>\n",
       "      <th>59995</th>\n",
       "      <td>0.0</td>\n",
       "      <td>0.0</td>\n",
       "      <td>0.0</td>\n",
       "      <td>0.000000</td>\n",
       "      <td>0.000000</td>\n",
       "      <td>0.0</td>\n",
       "      <td>0.0</td>\n",
       "      <td>0.000000</td>\n",
       "      <td>0.0</td>\n",
       "      <td>0.0</td>\n",
       "      <td>0.000000</td>\n",
       "      <td>0.000000</td>\n",
       "      <td>0.000000</td>\n",
       "      <td>0.000000</td>\n",
       "      <td>0.000000</td>\n",
       "      <td>...</td>\n",
       "      <td>0.000000</td>\n",
       "      <td>0.000000</td>\n",
       "      <td>0.000000</td>\n",
       "      <td>0.000000</td>\n",
       "      <td>0.000000</td>\n",
       "      <td>0.000000</td>\n",
       "      <td>0.000000</td>\n",
       "      <td>0.000000</td>\n",
       "      <td>0.000000</td>\n",
       "      <td>0.000000</td>\n",
       "      <td>0.000000</td>\n",
       "      <td>0.0</td>\n",
       "      <td>0.0</td>\n",
       "      <td>0.0</td>\n",
       "      <td>0.0</td>\n",
       "    </tr>\n",
       "    <tr>\n",
       "      <th>59996</th>\n",
       "      <td>0.0</td>\n",
       "      <td>0.0</td>\n",
       "      <td>0.0</td>\n",
       "      <td>0.000000</td>\n",
       "      <td>0.000000</td>\n",
       "      <td>0.0</td>\n",
       "      <td>0.0</td>\n",
       "      <td>0.000000</td>\n",
       "      <td>0.0</td>\n",
       "      <td>0.0</td>\n",
       "      <td>0.325490</td>\n",
       "      <td>0.607843</td>\n",
       "      <td>0.533333</td>\n",
       "      <td>0.454902</td>\n",
       "      <td>0.580392</td>\n",
       "      <td>...</td>\n",
       "      <td>0.000000</td>\n",
       "      <td>0.000000</td>\n",
       "      <td>0.333333</td>\n",
       "      <td>0.623529</td>\n",
       "      <td>0.000000</td>\n",
       "      <td>0.286275</td>\n",
       "      <td>0.000000</td>\n",
       "      <td>0.000000</td>\n",
       "      <td>0.000000</td>\n",
       "      <td>0.000000</td>\n",
       "      <td>0.000000</td>\n",
       "      <td>0.0</td>\n",
       "      <td>0.0</td>\n",
       "      <td>0.0</td>\n",
       "      <td>0.0</td>\n",
       "    </tr>\n",
       "    <tr>\n",
       "      <th>59997</th>\n",
       "      <td>0.0</td>\n",
       "      <td>0.0</td>\n",
       "      <td>0.0</td>\n",
       "      <td>0.000000</td>\n",
       "      <td>0.000000</td>\n",
       "      <td>0.0</td>\n",
       "      <td>0.0</td>\n",
       "      <td>0.000000</td>\n",
       "      <td>0.0</td>\n",
       "      <td>0.0</td>\n",
       "      <td>0.003922</td>\n",
       "      <td>0.000000</td>\n",
       "      <td>0.000000</td>\n",
       "      <td>0.341176</td>\n",
       "      <td>0.447059</td>\n",
       "      <td>...</td>\n",
       "      <td>0.678431</td>\n",
       "      <td>0.682353</td>\n",
       "      <td>0.678431</td>\n",
       "      <td>0.694118</td>\n",
       "      <td>0.643137</td>\n",
       "      <td>0.627451</td>\n",
       "      <td>0.635294</td>\n",
       "      <td>0.639216</td>\n",
       "      <td>0.529412</td>\n",
       "      <td>0.368627</td>\n",
       "      <td>0.000000</td>\n",
       "      <td>0.0</td>\n",
       "      <td>0.0</td>\n",
       "      <td>0.0</td>\n",
       "      <td>0.0</td>\n",
       "    </tr>\n",
       "    <tr>\n",
       "      <th>59998</th>\n",
       "      <td>0.0</td>\n",
       "      <td>0.0</td>\n",
       "      <td>0.0</td>\n",
       "      <td>0.000000</td>\n",
       "      <td>0.000000</td>\n",
       "      <td>0.0</td>\n",
       "      <td>0.0</td>\n",
       "      <td>0.000000</td>\n",
       "      <td>0.0</td>\n",
       "      <td>0.0</td>\n",
       "      <td>0.000000</td>\n",
       "      <td>0.000000</td>\n",
       "      <td>0.000000</td>\n",
       "      <td>0.000000</td>\n",
       "      <td>0.000000</td>\n",
       "      <td>...</td>\n",
       "      <td>0.000000</td>\n",
       "      <td>0.000000</td>\n",
       "      <td>0.000000</td>\n",
       "      <td>0.000000</td>\n",
       "      <td>0.000000</td>\n",
       "      <td>0.000000</td>\n",
       "      <td>0.000000</td>\n",
       "      <td>0.000000</td>\n",
       "      <td>0.000000</td>\n",
       "      <td>0.000000</td>\n",
       "      <td>0.000000</td>\n",
       "      <td>0.0</td>\n",
       "      <td>0.0</td>\n",
       "      <td>0.0</td>\n",
       "      <td>0.0</td>\n",
       "    </tr>\n",
       "    <tr>\n",
       "      <th>59999</th>\n",
       "      <td>0.0</td>\n",
       "      <td>0.0</td>\n",
       "      <td>0.0</td>\n",
       "      <td>0.000000</td>\n",
       "      <td>0.000000</td>\n",
       "      <td>0.0</td>\n",
       "      <td>0.0</td>\n",
       "      <td>0.000000</td>\n",
       "      <td>0.0</td>\n",
       "      <td>0.0</td>\n",
       "      <td>0.000000</td>\n",
       "      <td>0.000000</td>\n",
       "      <td>0.000000</td>\n",
       "      <td>0.000000</td>\n",
       "      <td>0.000000</td>\n",
       "      <td>...</td>\n",
       "      <td>0.000000</td>\n",
       "      <td>0.000000</td>\n",
       "      <td>0.000000</td>\n",
       "      <td>0.000000</td>\n",
       "      <td>0.000000</td>\n",
       "      <td>0.000000</td>\n",
       "      <td>0.000000</td>\n",
       "      <td>0.000000</td>\n",
       "      <td>0.000000</td>\n",
       "      <td>0.000000</td>\n",
       "      <td>0.000000</td>\n",
       "      <td>0.0</td>\n",
       "      <td>0.0</td>\n",
       "      <td>0.0</td>\n",
       "      <td>0.0</td>\n",
       "    </tr>\n",
       "  </tbody>\n",
       "</table>\n",
       "<p>60000 rows × 784 columns</p>\n",
       "</div>"
      ],
      "text/plain": [
       "       pixel1  pixel2  pixel3    pixel4    pixel5  pixel6  pixel7    pixel8  \\\n",
       "0         0.0     0.0     0.0  0.000000  0.000000     0.0     0.0  0.000000   \n",
       "1         0.0     0.0     0.0  0.000000  0.000000     0.0     0.0  0.000000   \n",
       "2         0.0     0.0     0.0  0.000000  0.000000     0.0     0.0  0.019608   \n",
       "3         0.0     0.0     0.0  0.003922  0.007843     0.0     0.0  0.000000   \n",
       "4         0.0     0.0     0.0  0.000000  0.000000     0.0     0.0  0.000000   \n",
       "...       ...     ...     ...       ...       ...     ...     ...       ...   \n",
       "59995     0.0     0.0     0.0  0.000000  0.000000     0.0     0.0  0.000000   \n",
       "59996     0.0     0.0     0.0  0.000000  0.000000     0.0     0.0  0.000000   \n",
       "59997     0.0     0.0     0.0  0.000000  0.000000     0.0     0.0  0.000000   \n",
       "59998     0.0     0.0     0.0  0.000000  0.000000     0.0     0.0  0.000000   \n",
       "59999     0.0     0.0     0.0  0.000000  0.000000     0.0     0.0  0.000000   \n",
       "\n",
       "       pixel9  pixel10   pixel11   pixel12   pixel13   pixel14   pixel15  ...  \\\n",
       "0         0.0      0.0  0.000000  0.000000  0.000000  0.000000  0.000000  ...   \n",
       "1         0.0      0.0  0.000000  0.000000  0.000000  0.000000  0.000000  ...   \n",
       "2         0.0      0.0  0.000000  0.411765  0.360784  0.396078  0.419608  ...   \n",
       "3         0.0      0.0  0.447059  0.717647  0.439216  0.215686  0.090196  ...   \n",
       "4         0.0      0.0  0.000000  0.000000  0.180392  0.000000  0.082353  ...   \n",
       "...       ...      ...       ...       ...       ...       ...       ...  ...   \n",
       "59995     0.0      0.0  0.000000  0.000000  0.000000  0.000000  0.000000  ...   \n",
       "59996     0.0      0.0  0.325490  0.607843  0.533333  0.454902  0.580392  ...   \n",
       "59997     0.0      0.0  0.003922  0.000000  0.000000  0.341176  0.447059  ...   \n",
       "59998     0.0      0.0  0.000000  0.000000  0.000000  0.000000  0.000000  ...   \n",
       "59999     0.0      0.0  0.000000  0.000000  0.000000  0.000000  0.000000  ...   \n",
       "\n",
       "       pixel770  pixel771  pixel772  pixel773  pixel774  pixel775  pixel776  \\\n",
       "0      0.000000  0.000000  0.000000  0.000000  0.000000  0.000000  0.000000   \n",
       "1      0.000000  0.000000  0.000000  0.000000  0.000000  0.000000  0.000000   \n",
       "2      0.839216  0.639216  0.572549  0.647059  0.309804  0.000000  0.000000   \n",
       "3      0.270588  0.203922  0.176471  0.290196  0.152941  0.011765  0.000000   \n",
       "4      0.576471  0.564706  0.474510  0.400000  0.247059  0.000000  0.000000   \n",
       "...         ...       ...       ...       ...       ...       ...       ...   \n",
       "59995  0.000000  0.000000  0.000000  0.000000  0.000000  0.000000  0.000000   \n",
       "59996  0.000000  0.000000  0.333333  0.623529  0.000000  0.286275  0.000000   \n",
       "59997  0.678431  0.682353  0.678431  0.694118  0.643137  0.627451  0.635294   \n",
       "59998  0.000000  0.000000  0.000000  0.000000  0.000000  0.000000  0.000000   \n",
       "59999  0.000000  0.000000  0.000000  0.000000  0.000000  0.000000  0.000000   \n",
       "\n",
       "       pixel777  pixel778  pixel779  pixel780  pixel781  pixel782  pixel783  \\\n",
       "0      0.000000  0.000000  0.000000  0.000000       0.0       0.0       0.0   \n",
       "1      0.000000  0.000000  0.000000  0.000000       0.0       0.0       0.0   \n",
       "2      0.000000  0.117647  0.168627  0.000000       0.0       0.0       0.0   \n",
       "3      0.000000  0.000000  0.000000  0.003922       0.0       0.0       0.0   \n",
       "4      0.000000  0.000000  0.000000  0.000000       0.0       0.0       0.0   \n",
       "...         ...       ...       ...       ...       ...       ...       ...   \n",
       "59995  0.000000  0.000000  0.000000  0.000000       0.0       0.0       0.0   \n",
       "59996  0.000000  0.000000  0.000000  0.000000       0.0       0.0       0.0   \n",
       "59997  0.639216  0.529412  0.368627  0.000000       0.0       0.0       0.0   \n",
       "59998  0.000000  0.000000  0.000000  0.000000       0.0       0.0       0.0   \n",
       "59999  0.000000  0.000000  0.000000  0.000000       0.0       0.0       0.0   \n",
       "\n",
       "       pixel784  \n",
       "0           0.0  \n",
       "1           0.0  \n",
       "2           0.0  \n",
       "3           0.0  \n",
       "4           0.0  \n",
       "...         ...  \n",
       "59995       0.0  \n",
       "59996       0.0  \n",
       "59997       0.0  \n",
       "59998       0.0  \n",
       "59999       0.0  \n",
       "\n",
       "[60000 rows x 784 columns]"
      ]
     },
     "execution_count": 96,
     "metadata": {},
     "output_type": "execute_result"
    },
    {
     "data": {
      "text/plain": [
       "array([0., 0., 1., 0., 0., 0., 0., 0., 0., 0.])"
      ]
     },
     "execution_count": 96,
     "metadata": {},
     "output_type": "execute_result"
    }
   ],
   "source": [
    "x_train\n",
    "y_test"
   ]
  },
  {
   "cell_type": "markdown",
   "metadata": {},
   "source": [
    "## 1.1 Logistic Regression (sklearn)\n"
   ]
  },
  {
   "cell_type": "code",
   "execution_count": 80,
   "metadata": {},
   "outputs": [],
   "source": [
    "logisticRegr = LogisticRegression()\n",
    "\n",
    "lg_X_train = np.array(x_train)\n",
    "lg_X_test = np.array(x_test)\n",
    "y_train = train['label']\n",
    "y_test = test['label']"
   ]
  },
  {
   "cell_type": "code",
   "execution_count": 81,
   "metadata": {},
   "outputs": [
    {
     "data": {
      "text/plain": [
       "(10000, 784)"
      ]
     },
     "execution_count": 81,
     "metadata": {},
     "output_type": "execute_result"
    },
    {
     "data": {
      "text/plain": [
       "(60000,)"
      ]
     },
     "execution_count": 81,
     "metadata": {},
     "output_type": "execute_result"
    }
   ],
   "source": [
    "lg_X_test.shape\n",
    "y_train.shape"
   ]
  },
  {
   "cell_type": "code",
   "execution_count": 82,
   "metadata": {},
   "outputs": [
    {
     "name": "stderr",
     "output_type": "stream",
     "text": [
      "C:\\Users\\chdan\\anaconda3\\lib\\site-packages\\sklearn\\linear_model\\_logistic.py:940: ConvergenceWarning: lbfgs failed to converge (status=1):\n",
      "STOP: TOTAL NO. of ITERATIONS REACHED LIMIT.\n",
      "\n",
      "Increase the number of iterations (max_iter) or scale the data as shown in:\n",
      "    https://scikit-learn.org/stable/modules/preprocessing.html\n",
      "Please also refer to the documentation for alternative solver options:\n",
      "    https://scikit-learn.org/stable/modules/linear_model.html#logistic-regression\n",
      "  extra_warning_msg=_LOGISTIC_SOLVER_CONVERGENCE_MSG)\n"
     ]
    },
    {
     "data": {
      "text/plain": [
       "LogisticRegression(C=1.0, class_weight=None, dual=False, fit_intercept=True,\n",
       "                   intercept_scaling=1, l1_ratio=None, max_iter=100,\n",
       "                   multi_class='auto', n_jobs=None, penalty='l2',\n",
       "                   random_state=None, solver='lbfgs', tol=0.0001, verbose=0,\n",
       "                   warm_start=False)"
      ]
     },
     "execution_count": 82,
     "metadata": {},
     "output_type": "execute_result"
    }
   ],
   "source": [
    "logisticRegr.fit(lg_X_train, y_train)\n",
    "predictions = logisticRegr.predict(lg_X_test)"
   ]
  },
  {
   "cell_type": "code",
   "execution_count": 83,
   "metadata": {},
   "outputs": [
    {
     "data": {
      "text/plain": [
       "70    7\n",
       "Name: label, dtype: int64"
      ]
     },
     "execution_count": 83,
     "metadata": {},
     "output_type": "execute_result"
    },
    {
     "data": {
      "text/plain": [
       "array([7], dtype=int64)"
      ]
     },
     "execution_count": 83,
     "metadata": {},
     "output_type": "execute_result"
    }
   ],
   "source": [
    "y_test[70:71]\n",
    "logisticRegr.predict(lg_X_test[70:71])\n",
    "## it works..."
   ]
  },
  {
   "cell_type": "code",
   "execution_count": 84,
   "metadata": {},
   "outputs": [
    {
     "name": "stdout",
     "output_type": "stream",
     "text": [
      "\n",
      "Точность на проверочных данных, используя Logistic Regression: 0.8565\n"
     ]
    }
   ],
   "source": [
    "score = logisticRegr.score(lg_X_test, test['label'])\n",
    "print('\\nТочность на проверочных данных, используя Logistic Regression: {}'.format(score))"
   ]
  },
  {
   "cell_type": "markdown",
   "metadata": {},
   "source": [
    "## 1.2 Logistic Regression (tensorflow)"
   ]
  },
  {
   "cell_type": "code",
   "execution_count": 97,
   "metadata": {},
   "outputs": [],
   "source": [
    "lr_model = tf.keras.models.Sequential()\n",
    "lr_model.add(tf.keras.layers.Dense(10, activation='softmax', input_shape=(784,)))"
   ]
  },
  {
   "cell_type": "code",
   "execution_count": 98,
   "metadata": {},
   "outputs": [],
   "source": [
    "lr_model.compile(\n",
    "    loss='categorical_crossentropy',\n",
    "    optimizer='sgd',\n",
    "    metrics=['accuracy']\n",
    ")"
   ]
  },
  {
   "cell_type": "code",
   "execution_count": 99,
   "metadata": {},
   "outputs": [
    {
     "name": "stdout",
     "output_type": "stream",
     "text": [
      "Epoch 1/25\n",
      "120/120 [==============================] - 1s 6ms/step - loss: 1.6780 - accuracy: 0.4911 - val_loss: 1.2847 - val_accuracy: 0.6407\n",
      "Epoch 2/25\n",
      "120/120 [==============================] - 0s 3ms/step - loss: 1.1429 - accuracy: 0.6622 - val_loss: 1.0373 - val_accuracy: 0.6773\n",
      "Epoch 3/25\n",
      "120/120 [==============================] - 0s 3ms/step - loss: 0.9765 - accuracy: 0.6906 - val_loss: 0.9265 - val_accuracy: 0.6993\n",
      "Epoch 4/25\n",
      "120/120 [==============================] - 0s 3ms/step - loss: 0.8902 - accuracy: 0.7135 - val_loss: 0.8607 - val_accuracy: 0.7221\n",
      "Epoch 5/25\n",
      "120/120 [==============================] - 0s 3ms/step - loss: 0.8351 - accuracy: 0.7298 - val_loss: 0.8152 - val_accuracy: 0.7374\n",
      "Epoch 6/25\n",
      "120/120 [==============================] - 0s 3ms/step - loss: 0.7956 - accuracy: 0.7446 - val_loss: 0.7814 - val_accuracy: 0.7486\n",
      "Epoch 7/25\n",
      "120/120 [==============================] - 0s 3ms/step - loss: 0.7652 - accuracy: 0.7557 - val_loss: 0.7544 - val_accuracy: 0.7601\n",
      "Epoch 8/25\n",
      "120/120 [==============================] - 0s 3ms/step - loss: 0.7409 - accuracy: 0.7633 - val_loss: 0.7328 - val_accuracy: 0.7690\n",
      "Epoch 9/25\n",
      "120/120 [==============================] - 0s 3ms/step - loss: 0.7208 - accuracy: 0.7701 - val_loss: 0.7144 - val_accuracy: 0.7744\n",
      "Epoch 10/25\n",
      "120/120 [==============================] - 0s 3ms/step - loss: 0.7037 - accuracy: 0.7750 - val_loss: 0.6988 - val_accuracy: 0.7800\n",
      "Epoch 11/25\n",
      "120/120 [==============================] - 0s 3ms/step - loss: 0.6891 - accuracy: 0.7801 - val_loss: 0.6852 - val_accuracy: 0.7849\n",
      "Epoch 12/25\n",
      "120/120 [==============================] - 0s 3ms/step - loss: 0.6763 - accuracy: 0.7836 - val_loss: 0.6736 - val_accuracy: 0.7867\n",
      "Epoch 13/25\n",
      "120/120 [==============================] - 0s 3ms/step - loss: 0.6649 - accuracy: 0.7872 - val_loss: 0.6628 - val_accuracy: 0.7904\n",
      "Epoch 14/25\n",
      "120/120 [==============================] - 0s 3ms/step - loss: 0.6546 - accuracy: 0.7902 - val_loss: 0.6536 - val_accuracy: 0.7913\n",
      "Epoch 15/25\n",
      "120/120 [==============================] - 0s 3ms/step - loss: 0.6455 - accuracy: 0.7927 - val_loss: 0.6446 - val_accuracy: 0.7960\n",
      "Epoch 16/25\n",
      "120/120 [==============================] - 0s 4ms/step - loss: 0.6372 - accuracy: 0.7956 - val_loss: 0.6368 - val_accuracy: 0.7972\n",
      "Epoch 17/25\n",
      "120/120 [==============================] - 0s 4ms/step - loss: 0.6296 - accuracy: 0.7968 - val_loss: 0.6293 - val_accuracy: 0.7993\n",
      "Epoch 18/25\n",
      "120/120 [==============================] - 0s 4ms/step - loss: 0.6227 - accuracy: 0.7991 - val_loss: 0.6228 - val_accuracy: 0.8006\n",
      "Epoch 19/25\n",
      "120/120 [==============================] - 0s 4ms/step - loss: 0.6162 - accuracy: 0.8003 - val_loss: 0.6167 - val_accuracy: 0.8026\n",
      "Epoch 20/25\n",
      "120/120 [==============================] - 0s 3ms/step - loss: 0.6103 - accuracy: 0.8022 - val_loss: 0.6108 - val_accuracy: 0.8030\n",
      "Epoch 21/25\n",
      "120/120 [==============================] - 0s 3ms/step - loss: 0.6046 - accuracy: 0.8035 - val_loss: 0.6059 - val_accuracy: 0.8037\n",
      "Epoch 22/25\n",
      "120/120 [==============================] - 0s 3ms/step - loss: 0.5995 - accuracy: 0.8055 - val_loss: 0.6007 - val_accuracy: 0.8062\n",
      "Epoch 23/25\n",
      "120/120 [==============================] - 0s 4ms/step - loss: 0.5946 - accuracy: 0.8068 - val_loss: 0.5958 - val_accuracy: 0.8077\n",
      "Epoch 24/25\n",
      "120/120 [==============================] - 0s 3ms/step - loss: 0.5901 - accuracy: 0.8080 - val_loss: 0.5914 - val_accuracy: 0.8092\n",
      "Epoch 25/25\n",
      "120/120 [==============================] - 0s 3ms/step - loss: 0.5857 - accuracy: 0.8095 - val_loss: 0.5874 - val_accuracy: 0.8096\n"
     ]
    }
   ],
   "source": [
    "lr_rez = lr_model.fit(\n",
    "    x_train,\n",
    "    y_train,\n",
    "    batch_size=500,\n",
    "    validation_data=(x_test, y_test),\n",
    "    epochs=25\n",
    ")"
   ]
  },
  {
   "cell_type": "code",
   "execution_count": 103,
   "metadata": {},
   "outputs": [
    {
     "data": {
      "text/plain": [
       "[<matplotlib.lines.Line2D at 0x197019bc408>]"
      ]
     },
     "execution_count": 103,
     "metadata": {},
     "output_type": "execute_result"
    },
    {
     "data": {
      "text/plain": [
       "[<matplotlib.lines.Line2D at 0x197005b8208>]"
      ]
     },
     "execution_count": 103,
     "metadata": {},
     "output_type": "execute_result"
    },
    {
     "data": {
      "text/plain": [
       "Text(0, 0.5, 'Accuracy')"
      ]
     },
     "execution_count": 103,
     "metadata": {},
     "output_type": "execute_result"
    },
    {
     "data": {
      "text/plain": [
       "Text(0.5, 0, 'Epoch')"
      ]
     },
     "execution_count": 103,
     "metadata": {},
     "output_type": "execute_result"
    },
    {
     "data": {
      "text/plain": [
       "<matplotlib.legend.Legend at 0x197019a1788>"
      ]
     },
     "execution_count": 103,
     "metadata": {},
     "output_type": "execute_result"
    },
    {
     "data": {
      "image/png": "[encoded data removed]",
      "text/plain": [
       "<Figure size 432x288 with 1 Axes>"
      ]
     },
     "metadata": {
      "needs_background": "light"
     },
     "output_type": "display_data"
    }
   ],
   "source": [
    "plt.plot(lr_rez.history['accuracy'])\n",
    "plt.plot(lr_rez.history['val_accuracy'])\n",
    "plt.ylabel('Accuracy')\n",
    "plt.xlabel('Epoch')\n",
    "plt.legend(['Train', 'Validation'], loc='upper left')"
   ]
  },
  {
   "cell_type": "code",
   "execution_count": 105,
   "metadata": {},
   "outputs": [
    {
     "name": "stdout",
     "output_type": "stream",
     "text": [
      "\n",
      "Точность на проверочных данных, используя LR: 0.8095999956130981,\n",
      "Loss на проверочных данных, используя LR: 0.5874292254447937\n"
     ]
    }
   ],
   "source": [
    "loss_LR, accuracy_LR = lr_model.evaluate(x_test, y_test, verbose=0)\n",
    "print('\\nТочность на проверочных данных, используя LR: {},\\nLoss на проверочных данных, используя LR: {}'.format(accuracy_LR, loss_LR))"
   ]
  },
  {
   "cell_type": "markdown",
   "metadata": {},
   "source": [
    "## 2. NN"
   ]
  },
  {
   "cell_type": "code",
   "execution_count": 7,
   "metadata": {},
   "outputs": [],
   "source": [
    "model_NN = tf.keras.models.Sequential()\n",
    "\n",
    "model_NN.add(tf.keras.layers.Dense(512, activation='relu', input_shape=(784,)))\n",
    "model_NN.add(tf.keras.layers.Dropout(0.2))\n",
    "model_NN.add(tf.keras.layers.Dense(512, activation='relu'))\n",
    "model_NN.add(tf.keras.layers.Dense(10, activation='softmax'))"
   ]
  },
  {
   "cell_type": "code",
   "execution_count": 8,
   "metadata": {},
   "outputs": [],
   "source": [
    "model_NN.compile(optimizer=tf.keras.optimizers.Adam(),\n",
    "              loss='categorical_crossentropy',\n",
    "              metrics=['accuracy'])"
   ]
  },
  {
   "cell_type": "code",
   "execution_count": 9,
   "metadata": {},
   "outputs": [
    {
     "name": "stdout",
     "output_type": "stream",
     "text": [
      "Epoch 1/25\n",
      "120/120 [==============================] - 2s 17ms/step - loss: 0.5831 - accuracy: 0.7952 - val_loss: 0.4111 - val_accuracy: 0.8568\n",
      "Epoch 2/25\n",
      "120/120 [==============================] - 2s 16ms/step - loss: 0.3912 - accuracy: 0.8601 - val_loss: 0.3704 - val_accuracy: 0.8678\n",
      "Epoch 3/25\n",
      "120/120 [==============================] - 3s 25ms/step - loss: 0.3502 - accuracy: 0.8721 - val_loss: 0.3336 - val_accuracy: 0.8812\n",
      "Epoch 4/25\n",
      "120/120 [==============================] - 3s 27ms/step - loss: 0.3301 - accuracy: 0.8799 - val_loss: 0.3329 - val_accuracy: 0.8795\n",
      "Epoch 5/25\n",
      "120/120 [==============================] - 2s 16ms/step - loss: 0.3081 - accuracy: 0.8877 - val_loss: 0.3119 - val_accuracy: 0.8842\n",
      "Epoch 6/25\n",
      "120/120 [==============================] - 3s 25ms/step - loss: 0.2945 - accuracy: 0.8913 - val_loss: 0.3106 - val_accuracy: 0.8824\n",
      "Epoch 7/25\n",
      "120/120 [==============================] - 4s 30ms/step - loss: 0.2848 - accuracy: 0.8965 - val_loss: 0.2972 - val_accuracy: 0.8913\n",
      "Epoch 8/25\n",
      "120/120 [==============================] - 2s 16ms/step - loss: 0.2765 - accuracy: 0.8972 - val_loss: 0.3120 - val_accuracy: 0.8829\n",
      "Epoch 9/25\n",
      "120/120 [==============================] - 2s 20ms/step - loss: 0.2654 - accuracy: 0.9012 - val_loss: 0.2991 - val_accuracy: 0.8886\n",
      "Epoch 10/25\n",
      "120/120 [==============================] - 4s 30ms/step - loss: 0.2604 - accuracy: 0.9028 - val_loss: 0.2812 - val_accuracy: 0.8956\n",
      "Epoch 11/25\n",
      "120/120 [==============================] - 4s 33ms/step - loss: 0.2494 - accuracy: 0.9069 - val_loss: 0.2905 - val_accuracy: 0.8921\n",
      "Epoch 12/25\n",
      "120/120 [==============================] - 4s 31ms/step - loss: 0.2430 - accuracy: 0.9089 - val_loss: 0.2826 - val_accuracy: 0.8952\n",
      "Epoch 13/25\n",
      "120/120 [==============================] - 4s 31ms/step - loss: 0.2347 - accuracy: 0.9117 - val_loss: 0.2890 - val_accuracy: 0.8942\n",
      "Epoch 14/25\n",
      "120/120 [==============================] - 4s 30ms/step - loss: 0.2302 - accuracy: 0.9138 - val_loss: 0.2759 - val_accuracy: 0.8991\n",
      "Epoch 15/25\n",
      "120/120 [==============================] - 4s 29ms/step - loss: 0.2229 - accuracy: 0.9160 - val_loss: 0.2958 - val_accuracy: 0.8961\n",
      "Epoch 16/25\n",
      "120/120 [==============================] - 4s 29ms/step - loss: 0.2179 - accuracy: 0.9174 - val_loss: 0.2832 - val_accuracy: 0.8977\n",
      "Epoch 17/25\n",
      "120/120 [==============================] - 4s 29ms/step - loss: 0.2103 - accuracy: 0.9215 - val_loss: 0.3031 - val_accuracy: 0.8927\n",
      "Epoch 18/25\n",
      "120/120 [==============================] - 4s 29ms/step - loss: 0.2048 - accuracy: 0.9225 - val_loss: 0.2886 - val_accuracy: 0.8965\n",
      "Epoch 19/25\n",
      "120/120 [==============================] - 4s 29ms/step - loss: 0.2033 - accuracy: 0.9226 - val_loss: 0.2845 - val_accuracy: 0.8988\n",
      "Epoch 20/25\n",
      "120/120 [==============================] - 4s 30ms/step - loss: 0.1995 - accuracy: 0.9252 - val_loss: 0.2781 - val_accuracy: 0.9005\n",
      "Epoch 21/25\n",
      "120/120 [==============================] - 3s 23ms/step - loss: 0.1918 - accuracy: 0.9279 - val_loss: 0.2853 - val_accuracy: 0.8988\n",
      "Epoch 22/25\n",
      "120/120 [==============================] - 2s 16ms/step - loss: 0.1884 - accuracy: 0.9287 - val_loss: 0.2903 - val_accuracy: 0.9006\n",
      "Epoch 23/25\n",
      "120/120 [==============================] - 3s 28ms/step - loss: 0.1884 - accuracy: 0.9289 - val_loss: 0.2882 - val_accuracy: 0.9021\n",
      "Epoch 24/25\n",
      "120/120 [==============================] - 4s 30ms/step - loss: 0.1815 - accuracy: 0.9318 - val_loss: 0.2825 - val_accuracy: 0.9027\n",
      "Epoch 25/25\n",
      "120/120 [==============================] - 4s 30ms/step - loss: 0.1770 - accuracy: 0.9334 - val_loss: 0.2991 - val_accuracy: 0.8996\n"
     ]
    }
   ],
   "source": [
    "history_NN = model_NN.fit(\n",
    "    x_train,\n",
    "    y_train,\n",
    "    batch_size=500,\n",
    "    validation_data=(x_test, y_test),\n",
    "    epochs=25\n",
    ")"
   ]
  },
  {
   "cell_type": "code",
   "execution_count": 10,
   "metadata": {},
   "outputs": [
    {
     "data": {
      "text/plain": [
       "[<matplotlib.lines.Line2D at 0x16e81663f88>]"
      ]
     },
     "execution_count": 10,
     "metadata": {},
     "output_type": "execute_result"
    },
    {
     "data": {
      "text/plain": [
       "[<matplotlib.lines.Line2D at 0x16e815e6908>]"
      ]
     },
     "execution_count": 10,
     "metadata": {},
     "output_type": "execute_result"
    },
    {
     "data": {
      "text/plain": [
       "Text(0, 0.5, 'Accuracy')"
      ]
     },
     "execution_count": 10,
     "metadata": {},
     "output_type": "execute_result"
    },
    {
     "data": {
      "text/plain": [
       "Text(0.5, 0, 'Epoch')"
      ]
     },
     "execution_count": 10,
     "metadata": {},
     "output_type": "execute_result"
    },
    {
     "data": {
      "text/plain": [
       "<matplotlib.legend.Legend at 0x16e800fb7c8>"
      ]
     },
     "execution_count": 10,
     "metadata": {},
     "output_type": "execute_result"
    },
    {
     "data": {
      "image/png": "[encoded data removed]",
      "text/plain": [
       "<Figure size 432x288 with 1 Axes>"
      ]
     },
     "metadata": {
      "needs_background": "light"
     },
     "output_type": "display_data"
    }
   ],
   "source": [
    "ax = plt.figure().gca()\n",
    "\n",
    "plt.plot(history_NN.history['accuracy'])\n",
    "plt.plot(history_NN.history['val_accuracy'])\n",
    "plt.ylabel('Accuracy')\n",
    "plt.xlabel('Epoch')\n",
    "plt.legend(['Train', 'Test'], loc='upper left')"
   ]
  },
  {
   "cell_type": "code",
   "execution_count": 11,
   "metadata": {},
   "outputs": [
    {
     "data": {
      "text/html": [
       "<div>\n",
       "<style scoped>\n",
       "    .dataframe tbody tr th:only-of-type {\n",
       "        vertical-align: middle;\n",
       "    }\n",
       "\n",
       "    .dataframe tbody tr th {\n",
       "        vertical-align: top;\n",
       "    }\n",
       "\n",
       "    .dataframe thead th {\n",
       "        text-align: right;\n",
       "    }\n",
       "</style>\n",
       "<table border=\"1\" class=\"dataframe\">\n",
       "  <thead>\n",
       "    <tr style=\"text-align: right;\">\n",
       "      <th></th>\n",
       "      <th>pixel1</th>\n",
       "      <th>pixel2</th>\n",
       "      <th>pixel3</th>\n",
       "      <th>pixel4</th>\n",
       "      <th>pixel5</th>\n",
       "      <th>pixel6</th>\n",
       "      <th>pixel7</th>\n",
       "      <th>pixel8</th>\n",
       "      <th>pixel9</th>\n",
       "      <th>pixel10</th>\n",
       "      <th>pixel11</th>\n",
       "      <th>pixel12</th>\n",
       "      <th>pixel13</th>\n",
       "      <th>pixel14</th>\n",
       "      <th>pixel15</th>\n",
       "      <th>...</th>\n",
       "      <th>pixel770</th>\n",
       "      <th>pixel771</th>\n",
       "      <th>pixel772</th>\n",
       "      <th>pixel773</th>\n",
       "      <th>pixel774</th>\n",
       "      <th>pixel775</th>\n",
       "      <th>pixel776</th>\n",
       "      <th>pixel777</th>\n",
       "      <th>pixel778</th>\n",
       "      <th>pixel779</th>\n",
       "      <th>pixel780</th>\n",
       "      <th>pixel781</th>\n",
       "      <th>pixel782</th>\n",
       "      <th>pixel783</th>\n",
       "      <th>pixel784</th>\n",
       "    </tr>\n",
       "  </thead>\n",
       "  <tbody>\n",
       "    <tr>\n",
       "      <th>70</th>\n",
       "      <td>0.0</td>\n",
       "      <td>0.0</td>\n",
       "      <td>0.0</td>\n",
       "      <td>0.0</td>\n",
       "      <td>0.0</td>\n",
       "      <td>0.0</td>\n",
       "      <td>0.0</td>\n",
       "      <td>0.0</td>\n",
       "      <td>0.0</td>\n",
       "      <td>0.0</td>\n",
       "      <td>0.0</td>\n",
       "      <td>0.0</td>\n",
       "      <td>0.0</td>\n",
       "      <td>0.0</td>\n",
       "      <td>0.0</td>\n",
       "      <td>...</td>\n",
       "      <td>0.0</td>\n",
       "      <td>0.0</td>\n",
       "      <td>0.0</td>\n",
       "      <td>0.0</td>\n",
       "      <td>0.0</td>\n",
       "      <td>0.0</td>\n",
       "      <td>0.0</td>\n",
       "      <td>0.0</td>\n",
       "      <td>0.0</td>\n",
       "      <td>0.0</td>\n",
       "      <td>0.0</td>\n",
       "      <td>0.0</td>\n",
       "      <td>0.0</td>\n",
       "      <td>0.0</td>\n",
       "      <td>0.0</td>\n",
       "    </tr>\n",
       "  </tbody>\n",
       "</table>\n",
       "<p>1 rows × 784 columns</p>\n",
       "</div>"
      ],
      "text/plain": [
       "    pixel1  pixel2  pixel3  pixel4  pixel5  pixel6  pixel7  pixel8  pixel9  \\\n",
       "70     0.0     0.0     0.0     0.0     0.0     0.0     0.0     0.0     0.0   \n",
       "\n",
       "    pixel10  pixel11  pixel12  pixel13  pixel14  pixel15  ...  pixel770  \\\n",
       "70      0.0      0.0      0.0      0.0      0.0      0.0  ...       0.0   \n",
       "\n",
       "    pixel771  pixel772  pixel773  pixel774  pixel775  pixel776  pixel777  \\\n",
       "70       0.0       0.0       0.0       0.0       0.0       0.0       0.0   \n",
       "\n",
       "    pixel778  pixel779  pixel780  pixel781  pixel782  pixel783  pixel784  \n",
       "70       0.0       0.0       0.0       0.0       0.0       0.0       0.0  \n",
       "\n",
       "[1 rows x 784 columns]"
      ]
     },
     "execution_count": 11,
     "metadata": {},
     "output_type": "execute_result"
    },
    {
     "data": {
      "text/plain": [
       "array([[0., 0., 0., 0., 0., 0., 0., 1., 0., 0.]])"
      ]
     },
     "execution_count": 11,
     "metadata": {},
     "output_type": "execute_result"
    },
    {
     "data": {
      "text/plain": [
       "array([[2.0873527e-07, 8.2208669e-07, 9.7307272e-08, 6.5190255e-07,\n",
       "        2.7113383e-06, 8.1970805e-04, 1.7670512e-06, 9.9874508e-01,\n",
       "        9.7745251e-06, 4.1926143e-04]], dtype=float32)"
      ]
     },
     "execution_count": 11,
     "metadata": {},
     "output_type": "execute_result"
    }
   ],
   "source": [
    "#проверим предсказание нейронки на 70ой вещи в датасете\n",
    "x_test[70:71]\n",
    "y_test[70:71]\n",
    "model_NN.predict(x_test[70:71])\n",
    "# она предсказала верно"
   ]
  },
  {
   "cell_type": "code",
   "execution_count": 12,
   "metadata": {},
   "outputs": [
    {
     "name": "stdout",
     "output_type": "stream",
     "text": [
      "313/313 - 0s - loss: 0.2991 - accuracy: 0.8996\n",
      "\n",
      "Точность на проверочных данных, используя NN: 0.9,\n",
      "Loss на проверочных данных, используя NN: 0.299\n"
     ]
    }
   ],
   "source": [
    "testNN_loss, testNN_acc = model_NN.evaluate(x_test,  y_test, verbose=2)\n",
    "testNN_loss, testNN_acc = round(testNN_loss,3), round(testNN_acc, 3)\n",
    "\n",
    "print('\\nТочность на проверочных данных, используя NN: {},\\nLoss на проверочных данных, используя NN: {}'.format(testNN_acc, testNN_loss))"
   ]
  },
  {
   "cell_type": "markdown",
   "metadata": {},
   "source": [
    "## 3. CNN"
   ]
  },
  {
   "cell_type": "code",
   "execution_count": 65,
   "metadata": {},
   "outputs": [],
   "source": [
    "CNN_X_train = np.array(x_train)\n",
    "CNN_X_test = np.array(x_test)\n",
    "CNN_X_train = CNN_X_train.reshape(60000, 28, 28, 1)\n",
    "CNN_X_test = CNN_X_test.reshape(10000, 28, 28, 1)"
   ]
  },
  {
   "cell_type": "code",
   "execution_count": 66,
   "metadata": {},
   "outputs": [],
   "source": [
    "model_CNN = tf.keras.models.Sequential()\n",
    "\n",
    "model_CNN.add(tf.keras.layers.Convolution2D(32, kernel_size=3, activation='relu', input_shape=(28,28,1)))\n",
    "\n",
    "model_CNN.add(tf.keras.layers.MaxPooling2D(3,3))\n",
    "model_CNN.add(tf.keras.layers.Convolution2D(64, kernel_size=3, activation='relu'))\n",
    "model_CNN.add(tf.keras.layers.MaxPooling2D(3,3))\n",
    "model_CNN.add(tf.keras.layers.Flatten())\n",
    "model_CNN.add(tf.keras.layers.Dense(64, activation='relu'))\n",
    "model_CNN.add(tf.keras.layers.Dense(10, activation='softmax'))"
   ]
  },
  {
   "cell_type": "code",
   "execution_count": 67,
   "metadata": {},
   "outputs": [],
   "source": [
    "model_CNN.compile(optimizer='adam',\n",
    "              loss='categorical_crossentropy',\n",
    "              metrics=['accuracy'])"
   ]
  },
  {
   "cell_type": "code",
   "execution_count": 68,
   "metadata": {},
   "outputs": [
    {
     "name": "stdout",
     "output_type": "stream",
     "text": [
      "Epoch 1/25\n",
      "120/120 [==============================] - 16s 135ms/step - loss: 1.0235 - accuracy: 0.6639 - val_loss: 0.5999 - val_accuracy: 0.7754\n",
      "Epoch 2/25\n",
      "120/120 [==============================] - 17s 140ms/step - loss: 0.5424 - accuracy: 0.7979 - val_loss: 0.4866 - val_accuracy: 0.8244\n",
      "Epoch 3/25\n",
      "120/120 [==============================] - 17s 143ms/step - loss: 0.4581 - accuracy: 0.8372 - val_loss: 0.4229 - val_accuracy: 0.8498\n",
      "Epoch 4/25\n",
      "120/120 [==============================] - 17s 143ms/step - loss: 0.4115 - accuracy: 0.8536 - val_loss: 0.3924 - val_accuracy: 0.8641\n",
      "Epoch 5/25\n",
      "120/120 [==============================] - 17s 143ms/step - loss: 0.3819 - accuracy: 0.8648 - val_loss: 0.3688 - val_accuracy: 0.8674\n",
      "Epoch 6/25\n",
      "120/120 [==============================] - 17s 143ms/step - loss: 0.3637 - accuracy: 0.8720 - val_loss: 0.3487 - val_accuracy: 0.8761\n",
      "Epoch 7/25\n",
      "120/120 [==============================] - 18s 154ms/step - loss: 0.3454 - accuracy: 0.8774 - val_loss: 0.3452 - val_accuracy: 0.8760\n",
      "Epoch 8/25\n",
      "120/120 [==============================] - 17s 143ms/step - loss: 0.3336 - accuracy: 0.8813 - val_loss: 0.3331 - val_accuracy: 0.8780\n",
      "Epoch 9/25\n",
      "120/120 [==============================] - 17s 142ms/step - loss: 0.3237 - accuracy: 0.8849 - val_loss: 0.3160 - val_accuracy: 0.8866\n",
      "Epoch 10/25\n",
      "120/120 [==============================] - 17s 143ms/step - loss: 0.3171 - accuracy: 0.8869 - val_loss: 0.3122 - val_accuracy: 0.8877\n",
      "Epoch 11/25\n",
      "120/120 [==============================] - 17s 143ms/step - loss: 0.3061 - accuracy: 0.8905 - val_loss: 0.3059 - val_accuracy: 0.8885\n",
      "Epoch 12/25\n",
      "120/120 [==============================] - 17s 143ms/step - loss: 0.2982 - accuracy: 0.8926 - val_loss: 0.2990 - val_accuracy: 0.8902\n",
      "Epoch 13/25\n",
      "120/120 [==============================] - 17s 143ms/step - loss: 0.2891 - accuracy: 0.8963 - val_loss: 0.2920 - val_accuracy: 0.8933\n",
      "Epoch 14/25\n",
      "120/120 [==============================] - 17s 143ms/step - loss: 0.2845 - accuracy: 0.8976 - val_loss: 0.2861 - val_accuracy: 0.8956\n",
      "Epoch 15/25\n",
      "120/120 [==============================] - 17s 143ms/step - loss: 0.2767 - accuracy: 0.9008 - val_loss: 0.2892 - val_accuracy: 0.8942\n",
      "Epoch 16/25\n",
      "120/120 [==============================] - 17s 144ms/step - loss: 0.2715 - accuracy: 0.9026 - val_loss: 0.2866 - val_accuracy: 0.8952\n",
      "Epoch 17/25\n",
      "120/120 [==============================] - 18s 146ms/step - loss: 0.2723 - accuracy: 0.9017 - val_loss: 0.2872 - val_accuracy: 0.8964\n",
      "Epoch 18/25\n",
      "120/120 [==============================] - 17s 145ms/step - loss: 0.2655 - accuracy: 0.9041 - val_loss: 0.2760 - val_accuracy: 0.8999\n",
      "Epoch 19/25\n",
      "120/120 [==============================] - 17s 145ms/step - loss: 0.2601 - accuracy: 0.9062 - val_loss: 0.2759 - val_accuracy: 0.8977\n",
      "Epoch 20/25\n",
      "120/120 [==============================] - 17s 144ms/step - loss: 0.2530 - accuracy: 0.9086 - val_loss: 0.2724 - val_accuracy: 0.9000\n",
      "Epoch 21/25\n",
      "120/120 [==============================] - 17s 144ms/step - loss: 0.2496 - accuracy: 0.9096 - val_loss: 0.2773 - val_accuracy: 0.8992\n",
      "Epoch 22/25\n",
      "120/120 [==============================] - 17s 144ms/step - loss: 0.2451 - accuracy: 0.9113 - val_loss: 0.2807 - val_accuracy: 0.8974\n",
      "Epoch 23/25\n",
      "120/120 [==============================] - 17s 144ms/step - loss: 0.2417 - accuracy: 0.9133 - val_loss: 0.2818 - val_accuracy: 0.8974\n",
      "Epoch 24/25\n",
      "120/120 [==============================] - 17s 145ms/step - loss: 0.2376 - accuracy: 0.9135 - val_loss: 0.2718 - val_accuracy: 0.9018\n",
      "Epoch 25/25\n",
      "120/120 [==============================] - 17s 143ms/step - loss: 0.2359 - accuracy: 0.9140 - val_loss: 0.2777 - val_accuracy: 0.8969\n"
     ]
    }
   ],
   "source": [
    "history_CNN = model_CNN.fit(\n",
    "    CNN_X_train,\n",
    "    y_train,\n",
    "    batch_size=500,\n",
    "    validation_data=(CNN_X_test, y_test),\n",
    "    epochs=25\n",
    ")"
   ]
  },
  {
   "cell_type": "code",
   "execution_count": 71,
   "metadata": {},
   "outputs": [
    {
     "name": "stdout",
     "output_type": "stream",
     "text": [
      "313/313 - 2s - loss: 0.2777 - accuracy: 0.8969\n",
      "\n",
      "Точность на проверочных данных, используя СNN: 0.897,\n",
      "Loss на проверочных данных, используя СNN: 0.278\n"
     ]
    }
   ],
   "source": [
    "testСNN_loss, testСNN_acc = model_CNN.evaluate(CNN_X_test,  y_test, verbose=2)\n",
    "testСNN_loss, testСNN_acc = round(testСNN_loss,3), round(testСNN_acc, 3)\n",
    "\n",
    "print('\\nТочность на проверочных данных, используя СNN: {},\\nLoss на проверочных данных, используя СNN: {}'.format(testСNN_acc, testСNN_loss))"
   ]
  },
  {
   "cell_type": "code",
   "execution_count": 70,
   "metadata": {},
   "outputs": [
    {
     "data": {
      "text/plain": [
       "[<matplotlib.lines.Line2D at 0x16eb59abb08>]"
      ]
     },
     "execution_count": 70,
     "metadata": {},
     "output_type": "execute_result"
    },
    {
     "data": {
      "text/plain": [
       "[<matplotlib.lines.Line2D at 0x16eb59dd488>]"
      ]
     },
     "execution_count": 70,
     "metadata": {},
     "output_type": "execute_result"
    },
    {
     "data": {
      "text/plain": [
       "Text(0, 0.5, 'Accuracy')"
      ]
     },
     "execution_count": 70,
     "metadata": {},
     "output_type": "execute_result"
    },
    {
     "data": {
      "text/plain": [
       "Text(0.5, 0, 'Epoch')"
      ]
     },
     "execution_count": 70,
     "metadata": {},
     "output_type": "execute_result"
    },
    {
     "data": {
      "text/plain": [
       "<matplotlib.legend.Legend at 0x16eb59e6808>"
      ]
     },
     "execution_count": 70,
     "metadata": {},
     "output_type": "execute_result"
    },
    {
     "data": {
      "image/png": "[encoded data removed]",
      "text/plain": [
       "<Figure size 432x288 with 1 Axes>"
      ]
     },
     "metadata": {
      "needs_background": "light"
     },
     "output_type": "display_data"
    }
   ],
   "source": [
    "ax = plt.figure().gca()\n",
    "\n",
    "plt.plot(history_CNN.history['accuracy'])\n",
    "plt.plot(history_CNN.history['val_accuracy'])\n",
    "plt.ylabel('Accuracy')\n",
    "plt.xlabel('Epoch')\n",
    "plt.legend(['Train CNN', 'Test CNN'], loc='upper left')"
   ]
  },
  {
   "cell_type": "markdown",
   "metadata": {},
   "source": [
    "## 2nd more difficult CNN model"
   ]
  },
  {
   "cell_type": "code",
   "execution_count": 59,
   "metadata": {},
   "outputs": [],
   "source": [
    "model2_CNN = tf.keras.models.Sequential()\n",
    "\n",
    "model2_CNN.add(tf.keras.layers.Convolution2D(32, kernel_size=3, activation='relu', input_shape=(28,28,1)))\n",
    "\n",
    "model2_CNN.add(tf.keras.layers.MaxPooling2D(2, 2))\n",
    "\n",
    "model2_CNN.add(tf.keras.layers.Conv2D(64, (3, 3), activation='relu'))\n",
    "model2_CNN.add(tf.keras.layers.MaxPooling2D(2, 2))\n",
    "\n",
    "model2_CNN.add(tf.keras.layers.Conv2D(128, (3, 3), activation='relu'))\n",
    "model2_CNN.add(tf.keras.layers.MaxPooling2D(2, 2))\n",
    "\n",
    "model2_CNN.add(tf.keras.layers.Dropout(0.5))\n",
    "model2_CNN.add(tf.keras.layers.Flatten())\n",
    "model2_CNN.add(tf.keras.layers.Dense(512, activation='relu'))\n",
    "\n",
    "model2_CNN.add(tf.keras.layers.Dense(10, activation='softmax'))"
   ]
  },
  {
   "cell_type": "code",
   "execution_count": 60,
   "metadata": {},
   "outputs": [],
   "source": [
    "model2_CNN.compile(optimizer='adam',\n",
    "              loss='categorical_crossentropy',\n",
    "              metrics=['accuracy'])"
   ]
  },
  {
   "cell_type": "code",
   "execution_count": 61,
   "metadata": {},
   "outputs": [
    {
     "name": "stdout",
     "output_type": "stream",
     "text": [
      "Epoch 1/25\n",
      "120/120 [==============================] - 31s 258ms/step - loss: 1.0003 - accuracy: 0.6298 - val_loss: 0.6192 - val_accuracy: 0.7657\n",
      "Epoch 2/25\n",
      "120/120 [==============================] - 31s 258ms/step - loss: 0.6303 - accuracy: 0.7673 - val_loss: 0.5230 - val_accuracy: 0.8083\n",
      "Epoch 3/25\n",
      "120/120 [==============================] - 31s 258ms/step - loss: 0.5521 - accuracy: 0.7981 - val_loss: 0.4725 - val_accuracy: 0.8231\n",
      "Epoch 4/25\n",
      "120/120 [==============================] - 31s 255ms/step - loss: 0.5078 - accuracy: 0.8156 - val_loss: 0.4445 - val_accuracy: 0.8304\n",
      "Epoch 5/25\n",
      "120/120 [==============================] - 31s 256ms/step - loss: 0.4722 - accuracy: 0.8282 - val_loss: 0.4003 - val_accuracy: 0.8524\n",
      "Epoch 6/25\n",
      "120/120 [==============================] - 31s 256ms/step - loss: 0.4436 - accuracy: 0.8379 - val_loss: 0.3816 - val_accuracy: 0.8581\n",
      "Epoch 7/25\n",
      "120/120 [==============================] - 31s 261ms/step - loss: 0.4196 - accuracy: 0.8457 - val_loss: 0.3607 - val_accuracy: 0.8656\n",
      "Epoch 8/25\n",
      "120/120 [==============================] - 31s 262ms/step - loss: 0.4067 - accuracy: 0.8531 - val_loss: 0.3427 - val_accuracy: 0.8717\n",
      "Epoch 9/25\n",
      "120/120 [==============================] - 31s 255ms/step - loss: 0.3904 - accuracy: 0.8586 - val_loss: 0.3360 - val_accuracy: 0.8758\n",
      "Epoch 10/25\n",
      "120/120 [==============================] - 31s 255ms/step - loss: 0.3760 - accuracy: 0.8641 - val_loss: 0.3268 - val_accuracy: 0.8794\n",
      "Epoch 11/25\n",
      "120/120 [==============================] - 31s 255ms/step - loss: 0.3588 - accuracy: 0.8688 - val_loss: 0.3171 - val_accuracy: 0.8796\n",
      "Epoch 12/25\n",
      "120/120 [==============================] - 30s 254ms/step - loss: 0.3513 - accuracy: 0.8736 - val_loss: 0.3126 - val_accuracy: 0.8812\n",
      "Epoch 13/25\n",
      "120/120 [==============================] - 31s 255ms/step - loss: 0.3415 - accuracy: 0.8748 - val_loss: 0.3153 - val_accuracy: 0.8805\n",
      "Epoch 14/25\n",
      "120/120 [==============================] - 31s 255ms/step - loss: 0.3330 - accuracy: 0.8778 - val_loss: 0.3053 - val_accuracy: 0.8887\n",
      "Epoch 15/25\n",
      "120/120 [==============================] - 31s 255ms/step - loss: 0.3253 - accuracy: 0.8810 - val_loss: 0.2923 - val_accuracy: 0.8879\n",
      "Epoch 16/25\n",
      "120/120 [==============================] - 31s 254ms/step - loss: 0.3163 - accuracy: 0.8846 - val_loss: 0.2898 - val_accuracy: 0.8894\n",
      "Epoch 17/25\n",
      "120/120 [==============================] - 31s 255ms/step - loss: 0.3070 - accuracy: 0.8869 - val_loss: 0.2860 - val_accuracy: 0.8954\n",
      "Epoch 18/25\n",
      "120/120 [==============================] - 32s 266ms/step - loss: 0.2981 - accuracy: 0.8900 - val_loss: 0.2772 - val_accuracy: 0.8966\n",
      "Epoch 19/25\n",
      "120/120 [==============================] - 31s 254ms/step - loss: 0.2937 - accuracy: 0.8930 - val_loss: 0.2821 - val_accuracy: 0.8938\n",
      "Epoch 20/25\n",
      "120/120 [==============================] - 31s 258ms/step - loss: 0.2854 - accuracy: 0.8946 - val_loss: 0.2713 - val_accuracy: 0.8999\n",
      "Epoch 21/25\n",
      "120/120 [==============================] - 31s 255ms/step - loss: 0.2797 - accuracy: 0.8979 - val_loss: 0.2741 - val_accuracy: 0.8979\n",
      "Epoch 22/25\n",
      "120/120 [==============================] - 31s 255ms/step - loss: 0.2777 - accuracy: 0.8986 - val_loss: 0.2704 - val_accuracy: 0.8998\n",
      "Epoch 23/25\n",
      "120/120 [==============================] - 31s 255ms/step - loss: 0.2701 - accuracy: 0.9012 - val_loss: 0.2675 - val_accuracy: 0.9006\n",
      "Epoch 24/25\n",
      "120/120 [==============================] - 31s 255ms/step - loss: 0.2688 - accuracy: 0.9013 - val_loss: 0.2737 - val_accuracy: 0.8998\n",
      "Epoch 25/25\n",
      "120/120 [==============================] - 29s 240ms/step - loss: 0.2608 - accuracy: 0.9035 - val_loss: 0.2685 - val_accuracy: 0.9006\n"
     ]
    }
   ],
   "source": [
    "history2_CNN = model2_CNN.fit(\n",
    "    CNN_X_train,\n",
    "    y_train,\n",
    "    batch_size=500,\n",
    "    validation_data=(CNN_X_test, y_test),\n",
    "    epochs=25\n",
    ")"
   ]
  },
  {
   "cell_type": "markdown",
   "metadata": {},
   "source": [
    "#### CNNs don't depend on labels, for our dataset the simplest CNN is enough."
   ]
  },
  {
   "cell_type": "code",
   "execution_count": 62,
   "metadata": {},
   "outputs": [
    {
     "name": "stdout",
     "output_type": "stream",
     "text": [
      "313/313 - 2s - loss: 0.2685 - accuracy: 0.9006\n",
      "\n",
      "Точность на проверочных данных, используя СNN: 0.901,\n",
      "Loss на проверочных данных, используя СNN: 0.268\n"
     ]
    }
   ],
   "source": [
    "test2СNN_loss, test2СNN_acc = model2_CNN.evaluate(CNN_X_test,  y_test, verbose=2)\n",
    "test2СNN_loss, test2СNN_acc = round(test2СNN_loss,3), round(test2СNN_acc, 3)\n",
    "\n",
    "print('\\nТочность на проверочных данных, используя СNN: {},\\nLoss на проверочных данных, используя СNN: {}'.format(test2СNN_acc, test2СNN_loss))"
   ]
  },
  {
   "cell_type": "code",
   "execution_count": 64,
   "metadata": {},
   "outputs": [
    {
     "data": {
      "text/plain": [
       "[<matplotlib.lines.Line2D at 0x16eb4a8d848>]"
      ]
     },
     "execution_count": 64,
     "metadata": {},
     "output_type": "execute_result"
    },
    {
     "data": {
      "text/plain": [
       "[<matplotlib.lines.Line2D at 0x16eb5575908>]"
      ]
     },
     "execution_count": 64,
     "metadata": {},
     "output_type": "execute_result"
    },
    {
     "data": {
      "text/plain": [
       "Text(0, 0.5, 'Accuracy')"
      ]
     },
     "execution_count": 64,
     "metadata": {},
     "output_type": "execute_result"
    },
    {
     "data": {
      "text/plain": [
       "Text(0.5, 0, 'Epoch')"
      ]
     },
     "execution_count": 64,
     "metadata": {},
     "output_type": "execute_result"
    },
    {
     "data": {
      "text/plain": [
       "<matplotlib.legend.Legend at 0x16eb558abc8>"
      ]
     },
     "execution_count": 64,
     "metadata": {},
     "output_type": "execute_result"
    },
    {
     "data": {
      "image/png": "[encoded data removed]",
      "text/plain": [
       "<Figure size 432x288 with 1 Axes>"
      ]
     },
     "metadata": {
      "needs_background": "light"
     },
     "output_type": "display_data"
    }
   ],
   "source": [
    "ax = plt.figure().gca()\n",
    "\n",
    "plt.plot(history2_CNN.history['accuracy'])\n",
    "plt.plot(history2_CNN.history['val_accuracy'])\n",
    "plt.ylabel('Accuracy')\n",
    "plt.xlabel('Epoch')\n",
    "plt.legend(['Train CNN', 'Test CNN'], loc='upper left')"
   ]
  },
  {
   "cell_type": "markdown",
   "metadata": {},
   "source": [
    "Learning process for CNN model is longer but more accurate than for NN and Logistic Regression.\n",
    "Logistic regression results much less than results of CNN & NN.\n",
    "Difference between CNN and NN is not bigger, but in our situation predictions from CNN model is more accurate than in NN (about 1 percent for each learning process)"
   ]
  },
  {
   "cell_type": "code",
   "execution_count": null,
   "metadata": {},
   "outputs": [],
   "source": []
  }
 ],
 "metadata": {
  "kernelspec": {
   "display_name": "Python 3",
   "language": "python",
   "name": "python3"
  }
 },
 "nbformat": 4,
 "nbformat_minor": 4
}
